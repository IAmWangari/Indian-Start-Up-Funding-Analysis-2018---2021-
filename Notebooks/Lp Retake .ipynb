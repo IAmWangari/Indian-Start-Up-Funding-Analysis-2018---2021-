{
 "cells": [
  {
   "cell_type": "markdown",
   "metadata": {},
   "source": [
    "# Indian Start-Up Funding Analysis (2018 - 2021)"
   ]
  },
  {
   "cell_type": "markdown",
   "metadata": {},
   "source": [
    "# Business Understanding\n",
    "\n",
    "Main Objective of the Project\n",
    "\n",
    "The primary objective of this project is to analyze the funding trends in the Indian start up ecosystem from 2018 to 2021.\n",
    "By examining the data, we aim o identify patterns, trends and insights that can inform strategic decisions for entering the Indian start up market. Specifically, we will focus on understanding the amount of funding received by start ups, the type of investors involved and the sectors that attract the most investment.\n",
    "\n",
    "Hypothesis\n",
    "\n",
    "Null Hypothesis(H0):\n",
    "There is no signficant difference in the average funding amounts received across different sectors within the Indian startup ecosystem from 2018 to 2021.\n",
    "\n",
    "Alternative Hypothesis(H1):\n",
    "There is a significant difference in the average funding amounts received across different sectors within the Indian startup ecosystem from 2018 to 2021\n",
    "\n",
    "Key Research Questions\n",
    "1. How has the total amount of funding received by start-ups in India changed from 2018-2021?\n",
    "2. Which sectors have received the most funding in each year?\n",
    "3. Who are the top investors in the India start-up ecosystem from 2018-2021?\n",
    "4. Which regions or cities in India are receiving the most start-up funding?\n",
    "5. What is the distribution of investment amounts across different stages of funding?\n",
    "6. What is the distribution of funding amounts by number of investments?\n",
    "\n"
   ]
  },
  {
   "cell_type": "code",
   "execution_count": 2,
   "metadata": {},
   "outputs": [],
   "source": [
    "import pyodbc\n",
    "import pandas as pd\n",
    "from dotenv import dotenv_values\n",
    "import warnings\n",
    "import matplotlib.pyplot as plt\n",
    "import seaborn as sns\n",
    "\n",
    "\n",
    "warnings.filterwarnings('ignore')"
   ]
  },
  {
   "cell_type": "code",
   "execution_count": 3,
   "metadata": {},
   "outputs": [],
   "source": [
    "# . env file\n",
    "\n",
    "server='dap-projects-database.database.windows.net'\n",
    "database='dapDB'\n",
    "username='LP1_learner'\n",
    "password='Hyp0th3s!$T3$t!ng'\n"
   ]
  },
  {
   "cell_type": "code",
   "execution_count": 4,
   "metadata": {},
   "outputs": [],
   "source": [
    "#Loading environment variables from .env into a dictionary\n",
    "\n",
    "env_var = dotenv_values('.env')\n",
    "\n",
    "#Getting credentials\n",
    "\n",
    "server = env_var.get('server')\n",
    "database = env_var.get('database')\n",
    "username = env_var.get('username')\n",
    "password = env_var.get('password')\n",
    "\n",
    "conn = f'DRIVER={{SQL SERVER}};SERVER={server};DATABASE={database};UID={username};PWD={password};timeout=30'\n"
   ]
  },
  {
   "cell_type": "code",
   "execution_count": 5,
   "metadata": {},
   "outputs": [],
   "source": [
    "#Connecting to the server\n",
    "\n",
    "connection = pyodbc.connect(conn)"
   ]
  },
  {
   "cell_type": "code",
   "execution_count": 6,
   "metadata": {},
   "outputs": [
    {
     "name": "stdout",
     "output_type": "stream",
     "text": [
      "Connection successful!\n"
     ]
    }
   ],
   "source": [
    "#Testing connection\n",
    "\n",
    "import pyodbc\n",
    "\n",
    "try:\n",
    "    connection = pyodbc.connect(conn)\n",
    "    print(\"Connection successful!\")\n",
    "except pyodbc.Error as ex:\n",
    "    sqlstate = ex.args[1]\n",
    "    print(f\"Connection failed: {sqlstate}\")\n"
   ]
  },
  {
   "cell_type": "code",
   "execution_count": 7,
   "metadata": {},
   "outputs": [
    {
     "data": {
      "text/html": [
       "<div>\n",
       "<style scoped>\n",
       "    .dataframe tbody tr th:only-of-type {\n",
       "        vertical-align: middle;\n",
       "    }\n",
       "\n",
       "    .dataframe tbody tr th {\n",
       "        vertical-align: top;\n",
       "    }\n",
       "\n",
       "    .dataframe thead th {\n",
       "        text-align: right;\n",
       "    }\n",
       "</style>\n",
       "<table border=\"1\" class=\"dataframe\">\n",
       "  <thead>\n",
       "    <tr style=\"text-align: right;\">\n",
       "      <th></th>\n",
       "      <th>TABLE_CATALOG</th>\n",
       "      <th>TABLE_SCHEMA</th>\n",
       "      <th>TABLE_NAME</th>\n",
       "      <th>TABLE_TYPE</th>\n",
       "    </tr>\n",
       "  </thead>\n",
       "  <tbody>\n",
       "    <tr>\n",
       "      <th>0</th>\n",
       "      <td>dapDB</td>\n",
       "      <td>dbo</td>\n",
       "      <td>LP1_startup_funding2021</td>\n",
       "      <td>BASE TABLE</td>\n",
       "    </tr>\n",
       "    <tr>\n",
       "      <th>1</th>\n",
       "      <td>dapDB</td>\n",
       "      <td>dbo</td>\n",
       "      <td>LP1_startup_funding2020</td>\n",
       "      <td>BASE TABLE</td>\n",
       "    </tr>\n",
       "  </tbody>\n",
       "</table>\n",
       "</div>"
      ],
      "text/plain": [
       "  TABLE_CATALOG TABLE_SCHEMA               TABLE_NAME  TABLE_TYPE\n",
       "0         dapDB          dbo  LP1_startup_funding2021  BASE TABLE\n",
       "1         dapDB          dbo  LP1_startup_funding2020  BASE TABLE"
      ]
     },
     "execution_count": 7,
     "metadata": {},
     "output_type": "execute_result"
    }
   ],
   "source": [
    "#Fetching from database\n",
    "\n",
    "db_query = '''\n",
    "            SELECT *\n",
    "            FROM INFORMATION_SCHEMA.TABLES\n",
    "            WHERE TABLE_TYPE = 'BASE TABLE'\n",
    "            '''\n",
    "\n",
    "data = pd.read_sql(db_query, connection)\n",
    "data"
   ]
  },
  {
   "cell_type": "code",
   "execution_count": 8,
   "metadata": {},
   "outputs": [
    {
     "data": {
      "text/html": [
       "<div>\n",
       "<style scoped>\n",
       "    .dataframe tbody tr th:only-of-type {\n",
       "        vertical-align: middle;\n",
       "    }\n",
       "\n",
       "    .dataframe tbody tr th {\n",
       "        vertical-align: top;\n",
       "    }\n",
       "\n",
       "    .dataframe thead th {\n",
       "        text-align: right;\n",
       "    }\n",
       "</style>\n",
       "<table border=\"1\" class=\"dataframe\">\n",
       "  <thead>\n",
       "    <tr style=\"text-align: right;\">\n",
       "      <th></th>\n",
       "      <th>Company_Brand</th>\n",
       "      <th>Founded</th>\n",
       "      <th>HeadQuarter</th>\n",
       "      <th>Sector</th>\n",
       "      <th>What_it_does</th>\n",
       "      <th>Founders</th>\n",
       "      <th>Investor</th>\n",
       "      <th>Amount</th>\n",
       "      <th>Stage</th>\n",
       "    </tr>\n",
       "  </thead>\n",
       "  <tbody>\n",
       "    <tr>\n",
       "      <th>0</th>\n",
       "      <td>Unbox Robotics</td>\n",
       "      <td>2019.0</td>\n",
       "      <td>Bangalore</td>\n",
       "      <td>AI startup</td>\n",
       "      <td>Unbox Robotics builds on-demand AI-driven ware...</td>\n",
       "      <td>Pramod Ghadge, Shahid Memon</td>\n",
       "      <td>BEENEXT, Entrepreneur First</td>\n",
       "      <td>$1,200,000</td>\n",
       "      <td>Pre-series A</td>\n",
       "    </tr>\n",
       "    <tr>\n",
       "      <th>1</th>\n",
       "      <td>upGrad</td>\n",
       "      <td>2015.0</td>\n",
       "      <td>Mumbai</td>\n",
       "      <td>EdTech</td>\n",
       "      <td>UpGrad is an online higher education platform.</td>\n",
       "      <td>Mayank Kumar, Phalgun Kompalli, Ravijot Chugh,...</td>\n",
       "      <td>Unilazer Ventures, IIFL Asset Management</td>\n",
       "      <td>$120,000,000</td>\n",
       "      <td>None</td>\n",
       "    </tr>\n",
       "    <tr>\n",
       "      <th>2</th>\n",
       "      <td>Lead School</td>\n",
       "      <td>2012.0</td>\n",
       "      <td>Mumbai</td>\n",
       "      <td>EdTech</td>\n",
       "      <td>LEAD School offers technology based school tra...</td>\n",
       "      <td>Smita Deorah, Sumeet Mehta</td>\n",
       "      <td>GSV Ventures, Westbridge Capital</td>\n",
       "      <td>$30,000,000</td>\n",
       "      <td>Series D</td>\n",
       "    </tr>\n",
       "    <tr>\n",
       "      <th>3</th>\n",
       "      <td>Bizongo</td>\n",
       "      <td>2015.0</td>\n",
       "      <td>Mumbai</td>\n",
       "      <td>B2B E-commerce</td>\n",
       "      <td>Bizongo is a business-to-business online marke...</td>\n",
       "      <td>Aniket Deb, Ankit Tomar, Sachin Agrawal</td>\n",
       "      <td>CDC Group, IDG Capital</td>\n",
       "      <td>$51,000,000</td>\n",
       "      <td>Series C</td>\n",
       "    </tr>\n",
       "    <tr>\n",
       "      <th>4</th>\n",
       "      <td>FypMoney</td>\n",
       "      <td>2021.0</td>\n",
       "      <td>Gurugram</td>\n",
       "      <td>FinTech</td>\n",
       "      <td>FypMoney is Digital NEO Bank for Teenagers, em...</td>\n",
       "      <td>Kapil Banwari</td>\n",
       "      <td>Liberatha Kallat, Mukesh Yadav, Dinesh Nagpal</td>\n",
       "      <td>$2,000,000</td>\n",
       "      <td>Seed</td>\n",
       "    </tr>\n",
       "    <tr>\n",
       "      <th>...</th>\n",
       "      <td>...</td>\n",
       "      <td>...</td>\n",
       "      <td>...</td>\n",
       "      <td>...</td>\n",
       "      <td>...</td>\n",
       "      <td>...</td>\n",
       "      <td>...</td>\n",
       "      <td>...</td>\n",
       "      <td>...</td>\n",
       "    </tr>\n",
       "    <tr>\n",
       "      <th>1204</th>\n",
       "      <td>Gigforce</td>\n",
       "      <td>2019.0</td>\n",
       "      <td>Gurugram</td>\n",
       "      <td>Staffing &amp; Recruiting</td>\n",
       "      <td>A gig/on-demand staffing company.</td>\n",
       "      <td>Chirag Mittal, Anirudh Syal</td>\n",
       "      <td>Endiya Partners</td>\n",
       "      <td>$3000000</td>\n",
       "      <td>Pre-series A</td>\n",
       "    </tr>\n",
       "    <tr>\n",
       "      <th>1205</th>\n",
       "      <td>Vahdam</td>\n",
       "      <td>2015.0</td>\n",
       "      <td>New Delhi</td>\n",
       "      <td>Food &amp; Beverages</td>\n",
       "      <td>VAHDAM is among the world’s first vertically i...</td>\n",
       "      <td>Bala Sarda</td>\n",
       "      <td>IIFL AMC</td>\n",
       "      <td>$20000000</td>\n",
       "      <td>Series D</td>\n",
       "    </tr>\n",
       "    <tr>\n",
       "      <th>1206</th>\n",
       "      <td>Leap Finance</td>\n",
       "      <td>2019.0</td>\n",
       "      <td>Bangalore</td>\n",
       "      <td>Financial Services</td>\n",
       "      <td>International education loans for high potenti...</td>\n",
       "      <td>Arnav Kumar, Vaibhav Singh</td>\n",
       "      <td>Owl Ventures</td>\n",
       "      <td>$55000000</td>\n",
       "      <td>Series C</td>\n",
       "    </tr>\n",
       "    <tr>\n",
       "      <th>1207</th>\n",
       "      <td>CollegeDekho</td>\n",
       "      <td>2015.0</td>\n",
       "      <td>Gurugram</td>\n",
       "      <td>EdTech</td>\n",
       "      <td>Collegedekho.com is Student’s Partner, Friend ...</td>\n",
       "      <td>Ruchir Arora</td>\n",
       "      <td>Winter Capital, ETS, Man Capital</td>\n",
       "      <td>$26000000</td>\n",
       "      <td>Series B</td>\n",
       "    </tr>\n",
       "    <tr>\n",
       "      <th>1208</th>\n",
       "      <td>WeRize</td>\n",
       "      <td>2019.0</td>\n",
       "      <td>Bangalore</td>\n",
       "      <td>Financial Services</td>\n",
       "      <td>India’s first socially distributed full stack ...</td>\n",
       "      <td>Vishal Chopra, Himanshu Gupta</td>\n",
       "      <td>3one4 Capital, Kalaari Capital</td>\n",
       "      <td>$8000000</td>\n",
       "      <td>Series A</td>\n",
       "    </tr>\n",
       "  </tbody>\n",
       "</table>\n",
       "<p>1209 rows × 9 columns</p>\n",
       "</div>"
      ],
      "text/plain": [
       "       Company_Brand  Founded HeadQuarter                 Sector  \\\n",
       "0     Unbox Robotics   2019.0   Bangalore             AI startup   \n",
       "1             upGrad   2015.0      Mumbai                 EdTech   \n",
       "2        Lead School   2012.0      Mumbai                 EdTech   \n",
       "3            Bizongo   2015.0      Mumbai         B2B E-commerce   \n",
       "4           FypMoney   2021.0    Gurugram                FinTech   \n",
       "...              ...      ...         ...                    ...   \n",
       "1204        Gigforce   2019.0    Gurugram  Staffing & Recruiting   \n",
       "1205          Vahdam   2015.0   New Delhi       Food & Beverages   \n",
       "1206    Leap Finance   2019.0   Bangalore     Financial Services   \n",
       "1207    CollegeDekho   2015.0    Gurugram                 EdTech   \n",
       "1208          WeRize   2019.0   Bangalore     Financial Services   \n",
       "\n",
       "                                           What_it_does  \\\n",
       "0     Unbox Robotics builds on-demand AI-driven ware...   \n",
       "1        UpGrad is an online higher education platform.   \n",
       "2     LEAD School offers technology based school tra...   \n",
       "3     Bizongo is a business-to-business online marke...   \n",
       "4     FypMoney is Digital NEO Bank for Teenagers, em...   \n",
       "...                                                 ...   \n",
       "1204                  A gig/on-demand staffing company.   \n",
       "1205  VAHDAM is among the world’s first vertically i...   \n",
       "1206  International education loans for high potenti...   \n",
       "1207  Collegedekho.com is Student’s Partner, Friend ...   \n",
       "1208  India’s first socially distributed full stack ...   \n",
       "\n",
       "                                               Founders  \\\n",
       "0                           Pramod Ghadge, Shahid Memon   \n",
       "1     Mayank Kumar, Phalgun Kompalli, Ravijot Chugh,...   \n",
       "2                            Smita Deorah, Sumeet Mehta   \n",
       "3               Aniket Deb, Ankit Tomar, Sachin Agrawal   \n",
       "4                                         Kapil Banwari   \n",
       "...                                                 ...   \n",
       "1204                        Chirag Mittal, Anirudh Syal   \n",
       "1205                                         Bala Sarda   \n",
       "1206                         Arnav Kumar, Vaibhav Singh   \n",
       "1207                                       Ruchir Arora   \n",
       "1208                      Vishal Chopra, Himanshu Gupta   \n",
       "\n",
       "                                           Investor        Amount  \\\n",
       "0                       BEENEXT, Entrepreneur First    $1,200,000   \n",
       "1          Unilazer Ventures, IIFL Asset Management  $120,000,000   \n",
       "2                  GSV Ventures, Westbridge Capital   $30,000,000   \n",
       "3                            CDC Group, IDG Capital   $51,000,000   \n",
       "4     Liberatha Kallat, Mukesh Yadav, Dinesh Nagpal    $2,000,000   \n",
       "...                                             ...           ...   \n",
       "1204                                Endiya Partners      $3000000   \n",
       "1205                                       IIFL AMC     $20000000   \n",
       "1206                                   Owl Ventures     $55000000   \n",
       "1207               Winter Capital, ETS, Man Capital     $26000000   \n",
       "1208                 3one4 Capital, Kalaari Capital      $8000000   \n",
       "\n",
       "             Stage  \n",
       "0     Pre-series A  \n",
       "1             None  \n",
       "2         Series D  \n",
       "3         Series C  \n",
       "4             Seed  \n",
       "...            ...  \n",
       "1204  Pre-series A  \n",
       "1205      Series D  \n",
       "1206      Series C  \n",
       "1207      Series B  \n",
       "1208      Series A  \n",
       "\n",
       "[1209 rows x 9 columns]"
      ]
     },
     "execution_count": 8,
     "metadata": {},
     "output_type": "execute_result"
    }
   ],
   "source": [
    "query_1 = '''\n",
    "          SELECT * \n",
    "          FROM LP1_startup_funding2021\n",
    "          '''\n",
    "\n",
    "df_021 = pd.read_sql(query_1, connection)\n",
    "df_021"
   ]
  },
  {
   "cell_type": "code",
   "execution_count": 9,
   "metadata": {},
   "outputs": [
    {
     "data": {
      "text/html": [
       "<div>\n",
       "<style scoped>\n",
       "    .dataframe tbody tr th:only-of-type {\n",
       "        vertical-align: middle;\n",
       "    }\n",
       "\n",
       "    .dataframe tbody tr th {\n",
       "        vertical-align: top;\n",
       "    }\n",
       "\n",
       "    .dataframe thead th {\n",
       "        text-align: right;\n",
       "    }\n",
       "</style>\n",
       "<table border=\"1\" class=\"dataframe\">\n",
       "  <thead>\n",
       "    <tr style=\"text-align: right;\">\n",
       "      <th></th>\n",
       "      <th>Company_Brand</th>\n",
       "      <th>Founded</th>\n",
       "      <th>HeadQuarter</th>\n",
       "      <th>Sector</th>\n",
       "      <th>What_it_does</th>\n",
       "      <th>Founders</th>\n",
       "      <th>Investor</th>\n",
       "      <th>Amount</th>\n",
       "      <th>Stage</th>\n",
       "      <th>column10</th>\n",
       "    </tr>\n",
       "  </thead>\n",
       "  <tbody>\n",
       "    <tr>\n",
       "      <th>0</th>\n",
       "      <td>Aqgromalin</td>\n",
       "      <td>2019.0</td>\n",
       "      <td>Chennai</td>\n",
       "      <td>AgriTech</td>\n",
       "      <td>Cultivating Ideas for Profit</td>\n",
       "      <td>Prasanna Manogaran, Bharani C L</td>\n",
       "      <td>Angel investors</td>\n",
       "      <td>200000.0</td>\n",
       "      <td>None</td>\n",
       "      <td>None</td>\n",
       "    </tr>\n",
       "    <tr>\n",
       "      <th>1</th>\n",
       "      <td>Krayonnz</td>\n",
       "      <td>2019.0</td>\n",
       "      <td>Bangalore</td>\n",
       "      <td>EdTech</td>\n",
       "      <td>An academy-guardian-scholar centric ecosystem ...</td>\n",
       "      <td>Saurabh Dixit, Gurudutt Upadhyay</td>\n",
       "      <td>GSF Accelerator</td>\n",
       "      <td>100000.0</td>\n",
       "      <td>Pre-seed</td>\n",
       "      <td>None</td>\n",
       "    </tr>\n",
       "    <tr>\n",
       "      <th>2</th>\n",
       "      <td>PadCare Labs</td>\n",
       "      <td>2018.0</td>\n",
       "      <td>Pune</td>\n",
       "      <td>Hygiene management</td>\n",
       "      <td>Converting bio-hazardous waste to harmless waste</td>\n",
       "      <td>Ajinkya Dhariya</td>\n",
       "      <td>Venture Center</td>\n",
       "      <td>NaN</td>\n",
       "      <td>Pre-seed</td>\n",
       "      <td>None</td>\n",
       "    </tr>\n",
       "    <tr>\n",
       "      <th>3</th>\n",
       "      <td>NCOME</td>\n",
       "      <td>2020.0</td>\n",
       "      <td>New Delhi</td>\n",
       "      <td>Escrow</td>\n",
       "      <td>Escrow-as-a-service platform</td>\n",
       "      <td>Ritesh Tiwari</td>\n",
       "      <td>Venture Catalysts, PointOne Capital</td>\n",
       "      <td>400000.0</td>\n",
       "      <td>None</td>\n",
       "      <td>None</td>\n",
       "    </tr>\n",
       "    <tr>\n",
       "      <th>4</th>\n",
       "      <td>Gramophone</td>\n",
       "      <td>2016.0</td>\n",
       "      <td>Indore</td>\n",
       "      <td>AgriTech</td>\n",
       "      <td>Gramophone is an AgTech platform enabling acce...</td>\n",
       "      <td>Ashish Rajan Singh, Harshit Gupta, Nishant Mah...</td>\n",
       "      <td>Siana Capital Management, Info Edge</td>\n",
       "      <td>340000.0</td>\n",
       "      <td>None</td>\n",
       "      <td>None</td>\n",
       "    </tr>\n",
       "  </tbody>\n",
       "</table>\n",
       "</div>"
      ],
      "text/plain": [
       "  Company_Brand  Founded HeadQuarter              Sector  \\\n",
       "0    Aqgromalin   2019.0     Chennai            AgriTech   \n",
       "1      Krayonnz   2019.0   Bangalore              EdTech   \n",
       "2  PadCare Labs   2018.0        Pune  Hygiene management   \n",
       "3         NCOME   2020.0   New Delhi              Escrow   \n",
       "4    Gramophone   2016.0      Indore            AgriTech   \n",
       "\n",
       "                                        What_it_does  \\\n",
       "0                       Cultivating Ideas for Profit   \n",
       "1  An academy-guardian-scholar centric ecosystem ...   \n",
       "2   Converting bio-hazardous waste to harmless waste   \n",
       "3                       Escrow-as-a-service platform   \n",
       "4  Gramophone is an AgTech platform enabling acce...   \n",
       "\n",
       "                                            Founders  \\\n",
       "0                    Prasanna Manogaran, Bharani C L   \n",
       "1                   Saurabh Dixit, Gurudutt Upadhyay   \n",
       "2                                    Ajinkya Dhariya   \n",
       "3                                      Ritesh Tiwari   \n",
       "4  Ashish Rajan Singh, Harshit Gupta, Nishant Mah...   \n",
       "\n",
       "                              Investor    Amount     Stage column10  \n",
       "0                      Angel investors  200000.0      None     None  \n",
       "1                      GSF Accelerator  100000.0  Pre-seed     None  \n",
       "2                       Venture Center       NaN  Pre-seed     None  \n",
       "3  Venture Catalysts, PointOne Capital  400000.0      None     None  \n",
       "4  Siana Capital Management, Info Edge  340000.0      None     None  "
      ]
     },
     "execution_count": 9,
     "metadata": {},
     "output_type": "execute_result"
    }
   ],
   "source": [
    "query_2 = '''\n",
    "          SELECT * \n",
    "          FROM LP1_startup_funding2020\n",
    "          '''\n",
    "\n",
    "\n",
    "df_020 = pd.read_sql(query_2, connection)\n",
    "df_020.head()"
   ]
  },
  {
   "cell_type": "code",
   "execution_count": 10,
   "metadata": {},
   "outputs": [
    {
     "data": {
      "text/html": [
       "<div>\n",
       "<style scoped>\n",
       "    .dataframe tbody tr th:only-of-type {\n",
       "        vertical-align: middle;\n",
       "    }\n",
       "\n",
       "    .dataframe tbody tr th {\n",
       "        vertical-align: top;\n",
       "    }\n",
       "\n",
       "    .dataframe thead th {\n",
       "        text-align: right;\n",
       "    }\n",
       "</style>\n",
       "<table border=\"1\" class=\"dataframe\">\n",
       "  <thead>\n",
       "    <tr style=\"text-align: right;\">\n",
       "      <th></th>\n",
       "      <th>Company/Brand</th>\n",
       "      <th>Founded</th>\n",
       "      <th>HeadQuarter</th>\n",
       "      <th>Sector</th>\n",
       "      <th>What it does</th>\n",
       "      <th>Founders</th>\n",
       "      <th>Investor</th>\n",
       "      <th>Amount($)</th>\n",
       "      <th>Stage</th>\n",
       "    </tr>\n",
       "  </thead>\n",
       "  <tbody>\n",
       "    <tr>\n",
       "      <th>0</th>\n",
       "      <td>Bombay Shaving</td>\n",
       "      <td>NaN</td>\n",
       "      <td>NaN</td>\n",
       "      <td>Ecommerce</td>\n",
       "      <td>Provides a range of male grooming products</td>\n",
       "      <td>Shantanu Deshpande</td>\n",
       "      <td>Sixth Sense Ventures</td>\n",
       "      <td>$6,300,000</td>\n",
       "      <td>NaN</td>\n",
       "    </tr>\n",
       "    <tr>\n",
       "      <th>1</th>\n",
       "      <td>Ruangguru</td>\n",
       "      <td>2014.0</td>\n",
       "      <td>Mumbai</td>\n",
       "      <td>Edtech</td>\n",
       "      <td>A learning platform that provides topic-based ...</td>\n",
       "      <td>Adamas Belva Syah Devara, Iman Usman.</td>\n",
       "      <td>General Atlantic</td>\n",
       "      <td>$150,000,000</td>\n",
       "      <td>Series C</td>\n",
       "    </tr>\n",
       "    <tr>\n",
       "      <th>2</th>\n",
       "      <td>Eduisfun</td>\n",
       "      <td>NaN</td>\n",
       "      <td>Mumbai</td>\n",
       "      <td>Edtech</td>\n",
       "      <td>It aims to make learning fun via games.</td>\n",
       "      <td>Jatin Solanki</td>\n",
       "      <td>Deepak Parekh, Amitabh Bachchan, Piyush Pandey</td>\n",
       "      <td>$28,000,000</td>\n",
       "      <td>Fresh funding</td>\n",
       "    </tr>\n",
       "    <tr>\n",
       "      <th>3</th>\n",
       "      <td>HomeLane</td>\n",
       "      <td>2014.0</td>\n",
       "      <td>Chennai</td>\n",
       "      <td>Interior design</td>\n",
       "      <td>Provides interior designing solutions</td>\n",
       "      <td>Srikanth Iyer, Rama Harinath</td>\n",
       "      <td>Evolvence India Fund (EIF), Pidilite Group, FJ...</td>\n",
       "      <td>$30,000,000</td>\n",
       "      <td>Series D</td>\n",
       "    </tr>\n",
       "    <tr>\n",
       "      <th>4</th>\n",
       "      <td>Nu Genes</td>\n",
       "      <td>2004.0</td>\n",
       "      <td>Telangana</td>\n",
       "      <td>AgriTech</td>\n",
       "      <td>It is a seed company engaged in production, pr...</td>\n",
       "      <td>Narayana Reddy Punyala</td>\n",
       "      <td>Innovation in Food and Agriculture (IFA)</td>\n",
       "      <td>$6,000,000</td>\n",
       "      <td>NaN</td>\n",
       "    </tr>\n",
       "  </tbody>\n",
       "</table>\n",
       "</div>"
      ],
      "text/plain": [
       "    Company/Brand  Founded HeadQuarter           Sector  \\\n",
       "0  Bombay Shaving      NaN         NaN        Ecommerce   \n",
       "1       Ruangguru   2014.0      Mumbai           Edtech   \n",
       "2        Eduisfun      NaN      Mumbai           Edtech   \n",
       "3        HomeLane   2014.0     Chennai  Interior design   \n",
       "4        Nu Genes   2004.0   Telangana         AgriTech   \n",
       "\n",
       "                                        What it does  \\\n",
       "0         Provides a range of male grooming products   \n",
       "1  A learning platform that provides topic-based ...   \n",
       "2            It aims to make learning fun via games.   \n",
       "3              Provides interior designing solutions   \n",
       "4  It is a seed company engaged in production, pr...   \n",
       "\n",
       "                                Founders  \\\n",
       "0                     Shantanu Deshpande   \n",
       "1  Adamas Belva Syah Devara, Iman Usman.   \n",
       "2                          Jatin Solanki   \n",
       "3           Srikanth Iyer, Rama Harinath   \n",
       "4                 Narayana Reddy Punyala   \n",
       "\n",
       "                                            Investor     Amount($)  \\\n",
       "0                               Sixth Sense Ventures    $6,300,000   \n",
       "1                                   General Atlantic  $150,000,000   \n",
       "2     Deepak Parekh, Amitabh Bachchan, Piyush Pandey   $28,000,000   \n",
       "3  Evolvence India Fund (EIF), Pidilite Group, FJ...   $30,000,000   \n",
       "4           Innovation in Food and Agriculture (IFA)    $6,000,000   \n",
       "\n",
       "           Stage  \n",
       "0            NaN  \n",
       "1       Series C  \n",
       "2  Fresh funding  \n",
       "3       Series D  \n",
       "4            NaN  "
      ]
     },
     "execution_count": 10,
     "metadata": {},
     "output_type": "execute_result"
    }
   ],
   "source": [
    "# Importing 2019 csv file\n",
    "\n",
    "df_019 = pd.read_csv(r'C:\\Users\\Admin\\Downloads\\startup_funding2019.csv')\n",
    "df_019.head()"
   ]
  },
  {
   "cell_type": "code",
   "execution_count": 11,
   "metadata": {},
   "outputs": [
    {
     "data": {
      "text/html": [
       "<div>\n",
       "<style scoped>\n",
       "    .dataframe tbody tr th:only-of-type {\n",
       "        vertical-align: middle;\n",
       "    }\n",
       "\n",
       "    .dataframe tbody tr th {\n",
       "        vertical-align: top;\n",
       "    }\n",
       "\n",
       "    .dataframe thead th {\n",
       "        text-align: right;\n",
       "    }\n",
       "</style>\n",
       "<table border=\"1\" class=\"dataframe\">\n",
       "  <thead>\n",
       "    <tr style=\"text-align: right;\">\n",
       "      <th></th>\n",
       "      <th>Company Name</th>\n",
       "      <th>Industry</th>\n",
       "      <th>Round/Series</th>\n",
       "      <th>Amount</th>\n",
       "      <th>Location</th>\n",
       "      <th>About Company</th>\n",
       "    </tr>\n",
       "  </thead>\n",
       "  <tbody>\n",
       "    <tr>\n",
       "      <th>0</th>\n",
       "      <td>TheCollegeFever</td>\n",
       "      <td>Brand Marketing, Event Promotion, Marketing, S...</td>\n",
       "      <td>Seed</td>\n",
       "      <td>250000</td>\n",
       "      <td>Bangalore, Karnataka, India</td>\n",
       "      <td>TheCollegeFever is a hub for fun, fiesta and f...</td>\n",
       "    </tr>\n",
       "    <tr>\n",
       "      <th>1</th>\n",
       "      <td>Happy Cow Dairy</td>\n",
       "      <td>Agriculture, Farming</td>\n",
       "      <td>Seed</td>\n",
       "      <td>₹40,000,000</td>\n",
       "      <td>Mumbai, Maharashtra, India</td>\n",
       "      <td>A startup which aggregates milk from dairy far...</td>\n",
       "    </tr>\n",
       "    <tr>\n",
       "      <th>2</th>\n",
       "      <td>MyLoanCare</td>\n",
       "      <td>Credit, Financial Services, Lending, Marketplace</td>\n",
       "      <td>Series A</td>\n",
       "      <td>₹65,000,000</td>\n",
       "      <td>Gurgaon, Haryana, India</td>\n",
       "      <td>Leading Online Loans Marketplace in India</td>\n",
       "    </tr>\n",
       "    <tr>\n",
       "      <th>3</th>\n",
       "      <td>PayMe India</td>\n",
       "      <td>Financial Services, FinTech</td>\n",
       "      <td>Angel</td>\n",
       "      <td>2000000</td>\n",
       "      <td>Noida, Uttar Pradesh, India</td>\n",
       "      <td>PayMe India is an innovative FinTech organizat...</td>\n",
       "    </tr>\n",
       "    <tr>\n",
       "      <th>4</th>\n",
       "      <td>Eunimart</td>\n",
       "      <td>E-Commerce Platforms, Retail, SaaS</td>\n",
       "      <td>Seed</td>\n",
       "      <td>—</td>\n",
       "      <td>Hyderabad, Andhra Pradesh, India</td>\n",
       "      <td>Eunimart is a one stop solution for merchants ...</td>\n",
       "    </tr>\n",
       "  </tbody>\n",
       "</table>\n",
       "</div>"
      ],
      "text/plain": [
       "      Company Name                                           Industry  \\\n",
       "0  TheCollegeFever  Brand Marketing, Event Promotion, Marketing, S...   \n",
       "1  Happy Cow Dairy                               Agriculture, Farming   \n",
       "2       MyLoanCare   Credit, Financial Services, Lending, Marketplace   \n",
       "3      PayMe India                        Financial Services, FinTech   \n",
       "4         Eunimart                 E-Commerce Platforms, Retail, SaaS   \n",
       "\n",
       "  Round/Series       Amount                          Location  \\\n",
       "0         Seed       250000       Bangalore, Karnataka, India   \n",
       "1         Seed  ₹40,000,000        Mumbai, Maharashtra, India   \n",
       "2     Series A  ₹65,000,000           Gurgaon, Haryana, India   \n",
       "3        Angel      2000000       Noida, Uttar Pradesh, India   \n",
       "4         Seed            —  Hyderabad, Andhra Pradesh, India   \n",
       "\n",
       "                                       About Company  \n",
       "0  TheCollegeFever is a hub for fun, fiesta and f...  \n",
       "1  A startup which aggregates milk from dairy far...  \n",
       "2          Leading Online Loans Marketplace in India  \n",
       "3  PayMe India is an innovative FinTech organizat...  \n",
       "4  Eunimart is a one stop solution for merchants ...  "
      ]
     },
     "execution_count": 11,
     "metadata": {},
     "output_type": "execute_result"
    }
   ],
   "source": [
    "# Importing 2018 csv file\n",
    "\n",
    "df_018 = pd.read_csv(r'C:\\Users\\Admin\\Downloads\\startup_funding2018.csv')\n",
    "df_018.head()"
   ]
  },
  {
   "cell_type": "markdown",
   "metadata": {},
   "source": [
    "# Data Manipulation"
   ]
  },
  {
   "cell_type": "markdown",
   "metadata": {},
   "source": [
    "Rename columns for consistency"
   ]
  },
  {
   "cell_type": "code",
   "execution_count": 21,
   "metadata": {},
   "outputs": [],
   "source": [
    "# Rename columns for 2021 and 2020 datasets\n",
    "\n",
    "df_021.rename(columns={\n",
    "    'Company_Brand': 'Company',\n",
    "    'What_it_does': 'What it does',\n",
    "    'Amount': 'Amount($)'\n",
    "}, inplace=True)\n",
    "\n",
    "df_020.rename(columns={\n",
    "    'Company_Brand': 'Company',\n",
    "    'What_it_does': 'What it does',\n",
    "    'Amount': 'Amount($)'\n",
    "}, inplace=True)"
   ]
  },
  {
   "cell_type": "code",
   "execution_count": 20,
   "metadata": {},
   "outputs": [],
   "source": [
    "# Rename columns for 2019 and 2018 datasets\n",
    "\n",
    "df_019.rename(columns={\n",
    "    'Company/Brand': 'Company'\n",
    "}, inplace=True)\n",
    "\n",
    "df_018.rename(columns={\n",
    "    'Company Name': 'Company',\n",
    "    'Industry': 'Sector',\n",
    "    'Round/Series': 'Stage',\n",
    "    'Amount': 'Amount($)',\n",
    "    'Location': 'HeadQuarter',\n",
    "    'About Company': 'What it does'\n",
    "}, inplace=True)"
   ]
  },
  {
   "cell_type": "markdown",
   "metadata": {},
   "source": [
    "Convert 2020 and 2021 to csv dataframs to csv files"
   ]
  },
  {
   "cell_type": "code",
   "execution_count": 14,
   "metadata": {},
   "outputs": [],
   "source": [
    "# Save the DataFrames to CSV files\n",
    "\n",
    "df_020.to_csv('data_2020.csv', index=False)\n",
    "df_021.to_csv('data_2021.csv', index=False)"
   ]
  },
  {
   "cell_type": "markdown",
   "metadata": {},
   "source": [
    "Add the year column to each csv file"
   ]
  },
  {
   "cell_type": "code",
   "execution_count": 15,
   "metadata": {},
   "outputs": [],
   "source": [
    "# Read the CSV files\n",
    "\n",
    "df_018 = pd.read_csv(r'C:\\Users\\Admin\\Downloads\\startup_funding2018.csv')\n",
    "df_019 = pd.read_csv(r'C:\\Users\\Admin\\Downloads\\startup_funding2019.csv')\n",
    "df_020 = pd.read_csv('data_2020.csv')\n",
    "df_021 = pd.read_csv('data_2021.csv')"
   ]
  },
  {
   "cell_type": "code",
   "execution_count": 16,
   "metadata": {},
   "outputs": [],
   "source": [
    "# Add the \"year\" column to each DataFrame\n",
    "\n",
    "df_018['year'] = 2018\n",
    "df_019['year'] = 2019\n",
    "df_020['year'] = 2020\n",
    "df_021['year'] = 2021\n",
    "\n",
    "# Save the modified DataFrames back to CSV files\n",
    "df_018.to_csv('data_2018_with_year.csv', index=False)\n",
    "df_019.to_csv('data_2019_with_year.csv', index=False)\n",
    "df_020.to_csv('data_2020_with_year.csv', index=False)\n",
    "df_021.to_csv('data_2021_with_year.csv', index=False)\n"
   ]
  },
  {
   "cell_type": "code",
   "execution_count": 17,
   "metadata": {},
   "outputs": [],
   "source": [
    "\n",
    "# Define a fixed conversion rate for INR to USD\n",
    "INR_TO_USD = 0.012\n",
    "\n",
    "\n",
    "def convert_amount(amount):\n",
    "    #Ensure amount is all string as the replace function does not apply on float objects\n",
    "\n",
    "    # Check if the amount is already a float. If it is return it as it is.\n",
    "    if isinstance(amount, float):\n",
    "        return amount\n",
    "    \n",
    "    # Proceed to with amounts in string  form in order to apply replace function\n",
    "\n",
    "    # Ensure the amount is a string and remove commas and whitespace\n",
    "    amount_str = str(amount).replace(',', '').strip()\n",
    "    \n",
    "    try:\n",
    "        # Check if the string starts with $ or ₹\n",
    "        if amount_str.startswith('$'):\n",
    "            return float(amount_str.replace('$', ''))\n",
    "        elif amount_str.startswith('₹'):\n",
    "            # Convert INR to USD using the fixed rate\n",
    "            amount_inr = float(amount_str.replace('₹', ''))\n",
    "            amount_usd = amount_inr * INR_TO_USD\n",
    "            return amount_usd\n",
    "        else:\n",
    "            # Handle scientific notation and plain numbers\n",
    "            return float(amount_str)\n",
    "    except ValueError:\n",
    "        # Handle any conversion errors (e.g., malformed strings)\n",
    "        return None\n",
    "\n"
   ]
  },
  {
   "cell_type": "code",
   "execution_count": 22,
   "metadata": {},
   "outputs": [],
   "source": [
    "# Applying conversion amounts\n",
    "\n",
    "# Apply conversion to the 'Amount($)' column for all datasets\n",
    "df_018['Amount($)'] = df_018['Amount($)'].apply(convert_amount)\n",
    "df_019['Amount($)'] = df_019['Amount($)'].apply(convert_amount)\n",
    "df_020['Amount($)'] = df_020['Amount($)'].apply(convert_amount)\n",
    "df_021['Amount($)'] = df_021['Amount($)'].apply(convert_amount)"
   ]
  },
  {
   "cell_type": "code",
   "execution_count": 23,
   "metadata": {},
   "outputs": [],
   "source": [
    "# Concatenate the datasets\n",
    "\n",
    "combined_df = pd.concat([df_021, df_020, df_019, df_018], ignore_index=True)\n",
    "\n",
    "# Save the combined DataFrame to a CSV file\n",
    "combined_df.to_csv('combined_data_with_years.csv', index=False)\n"
   ]
  },
  {
   "cell_type": "code",
   "execution_count": 24,
   "metadata": {},
   "outputs": [
    {
     "data": {
      "text/plain": [
       "Index(['Company', 'Founded', 'HeadQuarter', 'Sector', 'What it does',\n",
       "       'Founders', 'Investor', 'Amount($)', 'Stage', 'year', 'column10'],\n",
       "      dtype='object')"
      ]
     },
     "execution_count": 24,
     "metadata": {},
     "output_type": "execute_result"
    }
   ],
   "source": [
    "combined_df.columns"
   ]
  },
  {
   "cell_type": "code",
   "execution_count": 25,
   "metadata": {},
   "outputs": [
    {
     "data": {
      "text/html": [
       "<div>\n",
       "<style scoped>\n",
       "    .dataframe tbody tr th:only-of-type {\n",
       "        vertical-align: middle;\n",
       "    }\n",
       "\n",
       "    .dataframe tbody tr th {\n",
       "        vertical-align: top;\n",
       "    }\n",
       "\n",
       "    .dataframe thead th {\n",
       "        text-align: right;\n",
       "    }\n",
       "</style>\n",
       "<table border=\"1\" class=\"dataframe\">\n",
       "  <thead>\n",
       "    <tr style=\"text-align: right;\">\n",
       "      <th></th>\n",
       "      <th>Company</th>\n",
       "      <th>Founded</th>\n",
       "      <th>HeadQuarter</th>\n",
       "      <th>Sector</th>\n",
       "      <th>What it does</th>\n",
       "      <th>Founders</th>\n",
       "      <th>Investor</th>\n",
       "      <th>Amount($)</th>\n",
       "      <th>Stage</th>\n",
       "      <th>year</th>\n",
       "      <th>column10</th>\n",
       "    </tr>\n",
       "  </thead>\n",
       "  <tbody>\n",
       "    <tr>\n",
       "      <th>0</th>\n",
       "      <td>Unbox Robotics</td>\n",
       "      <td>2019.0</td>\n",
       "      <td>Bangalore</td>\n",
       "      <td>AI startup</td>\n",
       "      <td>Unbox Robotics builds on-demand AI-driven ware...</td>\n",
       "      <td>Pramod Ghadge, Shahid Memon</td>\n",
       "      <td>BEENEXT, Entrepreneur First</td>\n",
       "      <td>1200000.0</td>\n",
       "      <td>Pre-series A</td>\n",
       "      <td>2021</td>\n",
       "      <td>NaN</td>\n",
       "    </tr>\n",
       "    <tr>\n",
       "      <th>1</th>\n",
       "      <td>upGrad</td>\n",
       "      <td>2015.0</td>\n",
       "      <td>Mumbai</td>\n",
       "      <td>EdTech</td>\n",
       "      <td>UpGrad is an online higher education platform.</td>\n",
       "      <td>Mayank Kumar, Phalgun Kompalli, Ravijot Chugh,...</td>\n",
       "      <td>Unilazer Ventures, IIFL Asset Management</td>\n",
       "      <td>120000000.0</td>\n",
       "      <td>NaN</td>\n",
       "      <td>2021</td>\n",
       "      <td>NaN</td>\n",
       "    </tr>\n",
       "    <tr>\n",
       "      <th>2</th>\n",
       "      <td>Lead School</td>\n",
       "      <td>2012.0</td>\n",
       "      <td>Mumbai</td>\n",
       "      <td>EdTech</td>\n",
       "      <td>LEAD School offers technology based school tra...</td>\n",
       "      <td>Smita Deorah, Sumeet Mehta</td>\n",
       "      <td>GSV Ventures, Westbridge Capital</td>\n",
       "      <td>30000000.0</td>\n",
       "      <td>Series D</td>\n",
       "      <td>2021</td>\n",
       "      <td>NaN</td>\n",
       "    </tr>\n",
       "    <tr>\n",
       "      <th>3</th>\n",
       "      <td>Bizongo</td>\n",
       "      <td>2015.0</td>\n",
       "      <td>Mumbai</td>\n",
       "      <td>B2B E-commerce</td>\n",
       "      <td>Bizongo is a business-to-business online marke...</td>\n",
       "      <td>Aniket Deb, Ankit Tomar, Sachin Agrawal</td>\n",
       "      <td>CDC Group, IDG Capital</td>\n",
       "      <td>51000000.0</td>\n",
       "      <td>Series C</td>\n",
       "      <td>2021</td>\n",
       "      <td>NaN</td>\n",
       "    </tr>\n",
       "    <tr>\n",
       "      <th>4</th>\n",
       "      <td>FypMoney</td>\n",
       "      <td>2021.0</td>\n",
       "      <td>Gurugram</td>\n",
       "      <td>FinTech</td>\n",
       "      <td>FypMoney is Digital NEO Bank for Teenagers, em...</td>\n",
       "      <td>Kapil Banwari</td>\n",
       "      <td>Liberatha Kallat, Mukesh Yadav, Dinesh Nagpal</td>\n",
       "      <td>2000000.0</td>\n",
       "      <td>Seed</td>\n",
       "      <td>2021</td>\n",
       "      <td>NaN</td>\n",
       "    </tr>\n",
       "  </tbody>\n",
       "</table>\n",
       "</div>"
      ],
      "text/plain": [
       "          Company  Founded HeadQuarter          Sector  \\\n",
       "0  Unbox Robotics   2019.0   Bangalore      AI startup   \n",
       "1          upGrad   2015.0      Mumbai          EdTech   \n",
       "2     Lead School   2012.0      Mumbai          EdTech   \n",
       "3         Bizongo   2015.0      Mumbai  B2B E-commerce   \n",
       "4        FypMoney   2021.0    Gurugram         FinTech   \n",
       "\n",
       "                                        What it does  \\\n",
       "0  Unbox Robotics builds on-demand AI-driven ware...   \n",
       "1     UpGrad is an online higher education platform.   \n",
       "2  LEAD School offers technology based school tra...   \n",
       "3  Bizongo is a business-to-business online marke...   \n",
       "4  FypMoney is Digital NEO Bank for Teenagers, em...   \n",
       "\n",
       "                                            Founders  \\\n",
       "0                        Pramod Ghadge, Shahid Memon   \n",
       "1  Mayank Kumar, Phalgun Kompalli, Ravijot Chugh,...   \n",
       "2                         Smita Deorah, Sumeet Mehta   \n",
       "3            Aniket Deb, Ankit Tomar, Sachin Agrawal   \n",
       "4                                      Kapil Banwari   \n",
       "\n",
       "                                        Investor    Amount($)         Stage  \\\n",
       "0                    BEENEXT, Entrepreneur First    1200000.0  Pre-series A   \n",
       "1       Unilazer Ventures, IIFL Asset Management  120000000.0           NaN   \n",
       "2               GSV Ventures, Westbridge Capital   30000000.0      Series D   \n",
       "3                         CDC Group, IDG Capital   51000000.0      Series C   \n",
       "4  Liberatha Kallat, Mukesh Yadav, Dinesh Nagpal    2000000.0          Seed   \n",
       "\n",
       "   year column10  \n",
       "0  2021      NaN  \n",
       "1  2021      NaN  \n",
       "2  2021      NaN  \n",
       "3  2021      NaN  \n",
       "4  2021      NaN  "
      ]
     },
     "execution_count": 25,
     "metadata": {},
     "output_type": "execute_result"
    }
   ],
   "source": [
    "combined_df.head()"
   ]
  },
  {
   "cell_type": "code",
   "execution_count": 26,
   "metadata": {},
   "outputs": [
    {
     "data": {
      "text/html": [
       "<div>\n",
       "<style scoped>\n",
       "    .dataframe tbody tr th:only-of-type {\n",
       "        vertical-align: middle;\n",
       "    }\n",
       "\n",
       "    .dataframe tbody tr th {\n",
       "        vertical-align: top;\n",
       "    }\n",
       "\n",
       "    .dataframe thead th {\n",
       "        text-align: right;\n",
       "    }\n",
       "</style>\n",
       "<table border=\"1\" class=\"dataframe\">\n",
       "  <thead>\n",
       "    <tr style=\"text-align: right;\">\n",
       "      <th></th>\n",
       "      <th>Company</th>\n",
       "      <th>Founded</th>\n",
       "      <th>HeadQuarter</th>\n",
       "      <th>Sector</th>\n",
       "      <th>What it does</th>\n",
       "      <th>Founders</th>\n",
       "      <th>Investor</th>\n",
       "      <th>Amount($)</th>\n",
       "      <th>Stage</th>\n",
       "      <th>year</th>\n",
       "      <th>column10</th>\n",
       "    </tr>\n",
       "  </thead>\n",
       "  <tbody>\n",
       "    <tr>\n",
       "      <th>2874</th>\n",
       "      <td>Udaan</td>\n",
       "      <td>NaN</td>\n",
       "      <td>Bangalore, Karnataka, India</td>\n",
       "      <td>B2B, Business Development, Internet, Marketplace</td>\n",
       "      <td>Udaan is a B2B trade platform, designed specif...</td>\n",
       "      <td>NaN</td>\n",
       "      <td>NaN</td>\n",
       "      <td>225000000.0</td>\n",
       "      <td>Series C</td>\n",
       "      <td>2018</td>\n",
       "      <td>NaN</td>\n",
       "    </tr>\n",
       "    <tr>\n",
       "      <th>2875</th>\n",
       "      <td>Happyeasygo Group</td>\n",
       "      <td>NaN</td>\n",
       "      <td>Haryana, Haryana, India</td>\n",
       "      <td>Tourism, Travel</td>\n",
       "      <td>HappyEasyGo is an online travel domain.</td>\n",
       "      <td>NaN</td>\n",
       "      <td>NaN</td>\n",
       "      <td>NaN</td>\n",
       "      <td>Series A</td>\n",
       "      <td>2018</td>\n",
       "      <td>NaN</td>\n",
       "    </tr>\n",
       "    <tr>\n",
       "      <th>2876</th>\n",
       "      <td>Mombay</td>\n",
       "      <td>NaN</td>\n",
       "      <td>Mumbai, Maharashtra, India</td>\n",
       "      <td>Food and Beverage, Food Delivery, Internet</td>\n",
       "      <td>Mombay is a unique opportunity for housewives ...</td>\n",
       "      <td>NaN</td>\n",
       "      <td>NaN</td>\n",
       "      <td>7500.0</td>\n",
       "      <td>Seed</td>\n",
       "      <td>2018</td>\n",
       "      <td>NaN</td>\n",
       "    </tr>\n",
       "    <tr>\n",
       "      <th>2877</th>\n",
       "      <td>Droni Tech</td>\n",
       "      <td>NaN</td>\n",
       "      <td>Mumbai, Maharashtra, India</td>\n",
       "      <td>Information Technology</td>\n",
       "      <td>Droni Tech manufacture UAVs and develop softwa...</td>\n",
       "      <td>NaN</td>\n",
       "      <td>NaN</td>\n",
       "      <td>420000.0</td>\n",
       "      <td>Seed</td>\n",
       "      <td>2018</td>\n",
       "      <td>NaN</td>\n",
       "    </tr>\n",
       "    <tr>\n",
       "      <th>2878</th>\n",
       "      <td>Netmeds</td>\n",
       "      <td>NaN</td>\n",
       "      <td>Chennai, Tamil Nadu, India</td>\n",
       "      <td>Biotechnology, Health Care, Pharmaceutical</td>\n",
       "      <td>Welcome to India's most convenient pharmacy!</td>\n",
       "      <td>NaN</td>\n",
       "      <td>NaN</td>\n",
       "      <td>35000000.0</td>\n",
       "      <td>Series C</td>\n",
       "      <td>2018</td>\n",
       "      <td>NaN</td>\n",
       "    </tr>\n",
       "  </tbody>\n",
       "</table>\n",
       "</div>"
      ],
      "text/plain": [
       "                Company  Founded                  HeadQuarter  \\\n",
       "2874              Udaan      NaN  Bangalore, Karnataka, India   \n",
       "2875  Happyeasygo Group      NaN      Haryana, Haryana, India   \n",
       "2876             Mombay      NaN   Mumbai, Maharashtra, India   \n",
       "2877         Droni Tech      NaN   Mumbai, Maharashtra, India   \n",
       "2878            Netmeds      NaN   Chennai, Tamil Nadu, India   \n",
       "\n",
       "                                                Sector  \\\n",
       "2874  B2B, Business Development, Internet, Marketplace   \n",
       "2875                                   Tourism, Travel   \n",
       "2876        Food and Beverage, Food Delivery, Internet   \n",
       "2877                            Information Technology   \n",
       "2878        Biotechnology, Health Care, Pharmaceutical   \n",
       "\n",
       "                                           What it does Founders Investor  \\\n",
       "2874  Udaan is a B2B trade platform, designed specif...      NaN      NaN   \n",
       "2875            HappyEasyGo is an online travel domain.      NaN      NaN   \n",
       "2876  Mombay is a unique opportunity for housewives ...      NaN      NaN   \n",
       "2877  Droni Tech manufacture UAVs and develop softwa...      NaN      NaN   \n",
       "2878       Welcome to India's most convenient pharmacy!      NaN      NaN   \n",
       "\n",
       "        Amount($)     Stage  year column10  \n",
       "2874  225000000.0  Series C  2018      NaN  \n",
       "2875          NaN  Series A  2018      NaN  \n",
       "2876       7500.0      Seed  2018      NaN  \n",
       "2877     420000.0      Seed  2018      NaN  \n",
       "2878   35000000.0  Series C  2018      NaN  "
      ]
     },
     "execution_count": 26,
     "metadata": {},
     "output_type": "execute_result"
    }
   ],
   "source": [
    "combined_df.tail()"
   ]
  },
  {
   "cell_type": "code",
   "execution_count": 27,
   "metadata": {},
   "outputs": [
    {
     "data": {
      "text/plain": [
       "Index(['Company', 'Founded', 'HeadQuarter', 'Sector', 'What it does',\n",
       "       'Founders', 'Investor', 'Amount($)', 'Stage', 'year', 'column10'],\n",
       "      dtype='object')"
      ]
     },
     "execution_count": 27,
     "metadata": {},
     "output_type": "execute_result"
    }
   ],
   "source": [
    "combined_df.columns"
   ]
  },
  {
   "cell_type": "markdown",
   "metadata": {},
   "source": [
    "\n",
    "# Exploratory Data Analysis\n"
   ]
  },
  {
   "cell_type": "code",
   "execution_count": 28,
   "metadata": {},
   "outputs": [
    {
     "data": {
      "text/plain": [
       "(2879, 11)"
      ]
     },
     "execution_count": 28,
     "metadata": {},
     "output_type": "execute_result"
    }
   ],
   "source": [
    "# Determining the shape of the data set\n",
    "\n",
    "combined_df.shape"
   ]
  },
  {
   "cell_type": "code",
   "execution_count": 29,
   "metadata": {},
   "outputs": [
    {
     "data": {
      "text/plain": [
       "Company         False\n",
       "Founded          True\n",
       "HeadQuarter      True\n",
       "Sector           True\n",
       "What it does    False\n",
       "Founders         True\n",
       "Investor         True\n",
       "Amount($)        True\n",
       "Stage            True\n",
       "year            False\n",
       "column10         True\n",
       "dtype: bool"
      ]
     },
     "execution_count": 29,
     "metadata": {},
     "output_type": "execute_result"
    }
   ],
   "source": [
    "# Determining null values\n",
    "\n",
    "combined_df.isna().any()\n"
   ]
  },
  {
   "cell_type": "code",
   "execution_count": 30,
   "metadata": {},
   "outputs": [
    {
     "data": {
      "text/plain": [
       "Company            0\n",
       "Founded          769\n",
       "HeadQuarter      114\n",
       "Sector            18\n",
       "What it does       0\n",
       "Founders         545\n",
       "Investor         626\n",
       "Amount($)        567\n",
       "Stage            938\n",
       "year               0\n",
       "column10        2877\n",
       "dtype: int64"
      ]
     },
     "execution_count": 30,
     "metadata": {},
     "output_type": "execute_result"
    }
   ],
   "source": [
    "# Determining null values\n",
    "\n",
    "combined_df.isna().sum()\n"
   ]
  },
  {
   "cell_type": "code",
   "execution_count": 31,
   "metadata": {},
   "outputs": [
    {
     "data": {
      "text/plain": [
       "Index(['Company', 'Founded', 'HeadQuarter', 'Sector', 'What it does',\n",
       "       'Founders', 'Investor', 'Amount($)', 'Stage', 'year', 'column10'],\n",
       "      dtype='object')"
      ]
     },
     "execution_count": 31,
     "metadata": {},
     "output_type": "execute_result"
    }
   ],
   "source": [
    "#Assessing columns in all the data sets\n",
    "\n",
    "combined_df.columns"
   ]
  },
  {
   "cell_type": "code",
   "execution_count": 32,
   "metadata": {},
   "outputs": [
    {
     "name": "stdout",
     "output_type": "stream",
     "text": [
      "<class 'pandas.core.frame.DataFrame'>\n",
      "RangeIndex: 2879 entries, 0 to 2878\n",
      "Data columns (total 11 columns):\n",
      " #   Column        Non-Null Count  Dtype  \n",
      "---  ------        --------------  -----  \n",
      " 0   Company       2879 non-null   object \n",
      " 1   Founded       2110 non-null   float64\n",
      " 2   HeadQuarter   2765 non-null   object \n",
      " 3   Sector        2861 non-null   object \n",
      " 4   What it does  2879 non-null   object \n",
      " 5   Founders      2334 non-null   object \n",
      " 6   Investor      2253 non-null   object \n",
      " 7   Amount($)     2312 non-null   float64\n",
      " 8   Stage         1941 non-null   object \n",
      " 9   year          2879 non-null   int64  \n",
      " 10  column10      2 non-null      object \n",
      "dtypes: float64(2), int64(1), object(8)\n",
      "memory usage: 247.5+ KB\n"
     ]
    }
   ],
   "source": [
    "#Gaining an overvew of the data\n",
    "\n",
    "combined_df.info()"
   ]
  },
  {
   "cell_type": "code",
   "execution_count": 33,
   "metadata": {},
   "outputs": [
    {
     "data": {
      "text/plain": [
       "Company          object\n",
       "Founded         float64\n",
       "HeadQuarter      object\n",
       "Sector           object\n",
       "What it does     object\n",
       "Founders         object\n",
       "Investor         object\n",
       "Amount($)       float64\n",
       "Stage            object\n",
       "year              int64\n",
       "column10         object\n",
       "dtype: object"
      ]
     },
     "execution_count": 33,
     "metadata": {},
     "output_type": "execute_result"
    }
   ],
   "source": [
    "# Determining the datatypes\n",
    "\n",
    "combined_df.dtypes"
   ]
  },
  {
   "cell_type": "code",
   "execution_count": 34,
   "metadata": {},
   "outputs": [
    {
     "data": {
      "text/html": [
       "<div>\n",
       "<style scoped>\n",
       "    .dataframe tbody tr th:only-of-type {\n",
       "        vertical-align: middle;\n",
       "    }\n",
       "\n",
       "    .dataframe tbody tr th {\n",
       "        vertical-align: top;\n",
       "    }\n",
       "\n",
       "    .dataframe thead th {\n",
       "        text-align: right;\n",
       "    }\n",
       "</style>\n",
       "<table border=\"1\" class=\"dataframe\">\n",
       "  <thead>\n",
       "    <tr style=\"text-align: right;\">\n",
       "      <th></th>\n",
       "      <th>count</th>\n",
       "      <th>unique</th>\n",
       "      <th>top</th>\n",
       "      <th>freq</th>\n",
       "    </tr>\n",
       "  </thead>\n",
       "  <tbody>\n",
       "    <tr>\n",
       "      <th>Company</th>\n",
       "      <td>2879</td>\n",
       "      <td>2214</td>\n",
       "      <td>BharatPe</td>\n",
       "      <td>10</td>\n",
       "    </tr>\n",
       "    <tr>\n",
       "      <th>HeadQuarter</th>\n",
       "      <td>2765</td>\n",
       "      <td>172</td>\n",
       "      <td>Bangalore</td>\n",
       "      <td>764</td>\n",
       "    </tr>\n",
       "    <tr>\n",
       "      <th>Sector</th>\n",
       "      <td>2861</td>\n",
       "      <td>873</td>\n",
       "      <td>FinTech</td>\n",
       "      <td>173</td>\n",
       "    </tr>\n",
       "    <tr>\n",
       "      <th>What it does</th>\n",
       "      <td>2879</td>\n",
       "      <td>2691</td>\n",
       "      <td>Provides online learning classes</td>\n",
       "      <td>5</td>\n",
       "    </tr>\n",
       "    <tr>\n",
       "      <th>Founders</th>\n",
       "      <td>2334</td>\n",
       "      <td>1980</td>\n",
       "      <td>Ashneer Grover, Shashvat Nakrani</td>\n",
       "      <td>7</td>\n",
       "    </tr>\n",
       "    <tr>\n",
       "      <th>Investor</th>\n",
       "      <td>2253</td>\n",
       "      <td>1777</td>\n",
       "      <td>Inflection Point Ventures</td>\n",
       "      <td>36</td>\n",
       "    </tr>\n",
       "    <tr>\n",
       "      <th>Stage</th>\n",
       "      <td>1941</td>\n",
       "      <td>75</td>\n",
       "      <td>Seed</td>\n",
       "      <td>606</td>\n",
       "    </tr>\n",
       "    <tr>\n",
       "      <th>column10</th>\n",
       "      <td>2</td>\n",
       "      <td>2</td>\n",
       "      <td>Pre-Seed</td>\n",
       "      <td>1</td>\n",
       "    </tr>\n",
       "  </tbody>\n",
       "</table>\n",
       "</div>"
      ],
      "text/plain": [
       "             count unique                               top freq\n",
       "Company       2879   2214                          BharatPe   10\n",
       "HeadQuarter   2765    172                         Bangalore  764\n",
       "Sector        2861    873                           FinTech  173\n",
       "What it does  2879   2691  Provides online learning classes    5\n",
       "Founders      2334   1980  Ashneer Grover, Shashvat Nakrani    7\n",
       "Investor      2253   1777         Inflection Point Ventures   36\n",
       "Stage         1941     75                              Seed  606\n",
       "column10         2      2                          Pre-Seed    1"
      ]
     },
     "execution_count": 34,
     "metadata": {},
     "output_type": "execute_result"
    }
   ],
   "source": [
    "# Getting an overview with descriptive statistics\n",
    "\n",
    "combined_df.describe(include = ['object']).T\n",
    "\n"
   ]
  },
  {
   "cell_type": "code",
   "execution_count": 35,
   "metadata": {},
   "outputs": [
    {
     "data": {
      "text/plain": [
       "Company         2214\n",
       "Founded           34\n",
       "HeadQuarter      172\n",
       "Sector           873\n",
       "What it does    2691\n",
       "Founders        1980\n",
       "Investor        1777\n",
       "Amount($)        485\n",
       "Stage             75\n",
       "year               4\n",
       "column10           2\n",
       "dtype: int64"
      ]
     },
     "execution_count": 35,
     "metadata": {},
     "output_type": "execute_result"
    }
   ],
   "source": [
    "# Determining unique values\n",
    "\n",
    "combined_df.nunique()"
   ]
  },
  {
   "cell_type": "markdown",
   "metadata": {},
   "source": [
    "\n",
    "# Data Cleaning "
   ]
  },
  {
   "cell_type": "markdown",
   "metadata": {},
   "source": [
    "\n",
    "Handling Missing Values"
   ]
  },
  {
   "cell_type": "code",
   "execution_count": 36,
   "metadata": {},
   "outputs": [
    {
     "data": {
      "text/plain": [
       "Company            0\n",
       "Founded          769\n",
       "HeadQuarter      114\n",
       "Sector            18\n",
       "What it does       0\n",
       "Founders         545\n",
       "Investor         626\n",
       "Amount($)        567\n",
       "Stage            938\n",
       "year               0\n",
       "column10        2877\n",
       "dtype: int64"
      ]
     },
     "execution_count": 36,
     "metadata": {},
     "output_type": "execute_result"
    }
   ],
   "source": [
    "combined_df.isnull().sum()"
   ]
  },
  {
   "cell_type": "code",
   "execution_count": 37,
   "metadata": {},
   "outputs": [],
   "source": [
    "# Drop redundant columns\n",
    "\n",
    "combined_df.drop(['column10'], axis = 1, inplace = True)\n"
   ]
  },
  {
   "cell_type": "markdown",
   "metadata": {},
   "source": [
    "HeadQuarter Column"
   ]
  },
  {
   "cell_type": "code",
   "execution_count": null,
   "metadata": {},
   "outputs": [],
   "source": [
    "# Assuming 'Company' and 'Head Quarter' are separate columns in your DataFrame\n",
    "# Iterating over both 'Company' and 'Head Quarter' columns\n",
    "\n",
    "for index, row in combined_df.iterrows():\n",
    "    company = row['Company']\n",
    "    head_quarter = row['HeadQuarter']\n",
    "    print(f\"Index: {index}, Company: {company}, HeadQuarter: {head_quarter}\")\n",
    "\n"
   ]
  },
  {
   "cell_type": "code",
   "execution_count": 39,
   "metadata": {},
   "outputs": [],
   "source": [
    "# Fill missing values in the 'HeadQuarter' column using manual imputation\n",
    "\n",
    "combined_df.at[29,'HeadQuarter'] = 'New Delhi'\n",
    "combined_df.at[32,'HeadQuarter'] = 'Andhra Pradesh'\n",
    "combined_df.at[43,'HeadQuarter'] = 'Faridabad'\n",
    "combined_df.at[98,'HeadQuarter'] = 'Bengaluru'\n",
    "combined_df.at[111,'HeadQuarter'] = 'Bengaluru'\n",
    "combined_df.at[241,'HeadQuarter'] = 'New Delhi'\n",
    "combined_df.at[242,'HeadQuarter'] = 'Mumbai'\n",
    "combined_df.at[255,'HeadQuarter'] = 'New Delhi'\n",
    "combined_df.at[256,'HeadQuarter'] = 'Mumbai'\n",
    "combined_df.at[257,'HeadQuarter'] = 'Gurugram'\n",
    "combined_df.at[806,'HeadQuarter'] = 'Faridabad'\n",
    "combined_df.at[1100,'HeadQuarter'] = 'Bangalore'\n",
    "combined_df.at[1176,'HeadQuarter'] = 'Manchester'\n",
    "combined_df.at[1287,'HeadQuarter'] = 'Tirunelveli'\n",
    "combined_df.at[1370,'HeadQuarter'] = 'Jaipur'\n",
    "combined_df.at[1375,'HeadQuarter'] = 'Frisco'\n",
    "combined_df.at[1393,'HeadQuarter'] = 'Dhingsara'\n",
    "combined_df.at[1395,'HeadQuarter'] = 'New York'\n",
    "combined_df.at[1400,'HeadQuarter'] = 'Jaipur'\n",
    "combined_df.at[1407,'HeadQuarter'] = 'Jaipur'\n",
    "combined_df.at[1432,'HeadQuarter'] = 'San Francisco'\n",
    "combined_df.at[1434,'HeadQuarter'] = 'San Francisco'\n",
    "combined_df.at[1438,'HeadQuarter'] = 'San Ramon'\n",
    "combined_df.at[1439,'HeadQuarter'] = 'Paris'\n",
    "combined_df.at[1441,'HeadQuarter'] = 'Texas'\n",
    "combined_df.at[1449,'HeadQuarter'] = 'San Francisco'\n",
    "combined_df.at[1469,'HeadQuarter'] = 'London'\n",
    "combined_df.at[1470,'HeadQuarter'] = 'Sydney'\n",
    "combined_df.at[1471,'HeadQuarter'] = 'Milano'\n",
    "combined_df.at[1473,'HeadQuarter'] = 'New York'\n",
    "combined_df.at[1474,'HeadQuarter'] = 'Queensland'\n",
    "combined_df.at[1482,'HeadQuarter'] = 'London'\n",
    "combined_df.at[1488,'HeadQuarter'] = 'San Francisco'\n",
    "combined_df.at[1491,'HeadQuarter'] = 'Trivandrum'\n",
    "combined_df.at[1493,'HeadQuarter'] = 'Samastipur'\n",
    "combined_df.at[1496,'HeadQuarter'] = 'Irvine'\n",
    "combined_df.at[1497,'HeadQuarter'] = 'Tumkur'\n",
    "combined_df.at[1501,'HeadQuarter'] = 'San Francisco'\n",
    "combined_df.at[1509,'HeadQuarter'] = 'San Francisco'\n",
    "combined_df.at[1510,'HeadQuarter'] = 'Newcastle'\n",
    "combined_df.at[1512,'HeadQuarter'] = 'Shanghai'\n",
    "combined_df.at[1515,'HeadQuarter'] = 'Jiaxing'\n",
    "combined_df.at[1578,'HeadQuarter'] = 'San Francisco'\n",
    "combined_df.at[1593,'HeadQuarter'] = 'Tangerang'\n",
    "combined_df.at[1696,'HeadQuarter'] = 'Hyderabad'\n",
    "combined_df.at[1708,'HeadQuarter'] = 'Bengaluru'\n",
    "combined_df.at[1709,'HeadQuarter'] = 'Gurugram'\n",
    "combined_df.at[1724,'HeadQuarter'] = 'Noida'\n",
    "combined_df.at[1725,'HeadQuarter'] = 'Andhra Pradesh'\n",
    "combined_df.at[1728,'HeadQuarter'] = 'New Delhi'\n",
    "combined_df.at[1772,'HeadQuarter'] = 'New Delhi'\n",
    "combined_df.at[1831,'HeadQuarter'] = 'Mumbai'\n",
    "combined_df.at[1835,'HeadQuarter'] = 'Bengaluru'\n",
    "combined_df.at[1844,'HeadQuarter'] = 'Pune'\n",
    "combined_df.at[1856,'HeadQuarter'] = 'Bengaluru'\n",
    "combined_df.at[1857,'HeadQuarter'] = 'Bangalore'\n",
    "combined_df.at[1858,'HeadQuarter'] = 'Seattle'\n",
    "combined_df.at[1860,'HeadQuarter'] = 'Bangalore'\n",
    "combined_df.at[1866,'HeadQuarter'] = 'Bangalore'\n",
    "combined_df.at[1874,'HeadQuarter'] = 'New Delhi'\n",
    "combined_df.at[1877,'HeadQuarter'] = 'Bengaluru'\n",
    "combined_df.at[1903,'HeadQuarter'] = 'Gurgaon'\n",
    "combined_df.at[1908,'HeadQuarter'] = 'Coimbatore'\n",
    "combined_df.at[1919,'HeadQuarter'] = 'New Delhi'\n",
    "combined_df.at[1923,'HeadQuarter'] = 'Bangalore'\n",
    "combined_df.at[1924,'HeadQuarter'] = 'Thane'\n",
    "combined_df.at[1925,'HeadQuarter'] = 'Singapore'\n",
    "combined_df.at[1937,'HeadQuarter'] = 'Bengaluru'\n",
    "combined_df.at[1946,'HeadQuarter'] = 'Ahmedabad'\n",
    "combined_df.at[1952,'HeadQuarter'] = 'Chennai'\n",
    "combined_df.at[1956,'HeadQuarter'] = 'Bengaluru'\n",
    "combined_df.at[1966,'HeadQuarter'] = 'Bengaluru'\n",
    "combined_df.at[1977,'HeadQuarter'] = 'Bengaluru'\n",
    "combined_df.at[1982,'HeadQuarter'] = 'London'\n",
    "combined_df.at[1984,'HeadQuarter'] = 'New York'\n",
    "combined_df.at[1985,'HeadQuarter'] = 'Panaji'\n",
    "combined_df.at[1987,'HeadQuarter'] = 'Mumbai'\n",
    "combined_df.at[1989,'HeadQuarter'] = 'Bengaluru'\n",
    "combined_df.at[1994,'HeadQuarter'] = 'Mumbai'\n",
    "combined_df.at[2000,'HeadQuarter'] = 'Mumbai'\n",
    "combined_df.at[2002,'HeadQuarter'] = 'Mumbai'\n",
    "combined_df.at[2004,'HeadQuarter'] = 'Gurugram'\n",
    "combined_df.at[2005,'HeadQuarter'] = 'Gurugram'\n",
    "combined_df.at[2009,'HeadQuarter'] = 'Bangalore'\n",
    "combined_df.at[2011,'HeadQuarter'] = 'Jakarta'\n",
    "combined_df.at[2013,'HeadQuarter'] = 'San Fransisco'\n",
    "combined_df.at[2035,'HeadQuarter'] = 'Mumbai'\n",
    "combined_df.at[2036,'HeadQuarter'] = 'New Delhi'\n",
    "combined_df.at[2047,'HeadQuarter'] = 'Mumbai'\n",
    "combined_df.at[2049,'HeadQuarter'] = 'Bengaluru'\n",
    "combined_df.at[2051,'HeadQuarter'] = 'Mumbai'\n",
    "combined_df.at[2079,'HeadQuarter'] = 'Hyderabad'\n",
    "combined_df.at[2098,'HeadQuarter'] = 'San Fransisco'\n",
    "combined_df.at[2099,'HeadQuarter'] = 'Bangalore'\n",
    "combined_df.at[2112,'HeadQuarter'] = 'Noida'\n",
    "combined_df.at[2114,'HeadQuarter'] = 'London'\n",
    "combined_df.at[2115,'HeadQuarter'] = 'Mumbai'\n",
    "combined_df.at[2136,'HeadQuarter'] = 'New Delhi'\n",
    "combined_df.at[2138,'HeadQuarter'] = 'Noida'\n",
    "combined_df.at[2139,'HeadQuarter'] = 'Delhi'\n",
    "combined_df.at[2141,'HeadQuarter'] = 'Stockholm'\n",
    "combined_df.at[2144,'HeadQuarter'] = 'Bangalore'\n",
    "combined_df.at[2146,'HeadQuarter'] = 'Mumbai'\n",
    "combined_df.at[2155,'HeadQuarter'] = 'Mumbai'\n",
    "combined_df.at[2159,'HeadQuarter'] = 'Gurugram'\n",
    "combined_df.at[2162,'HeadQuarter'] = 'New Delhi'\n",
    "combined_df.at[2169,'HeadQuarter'] = 'Hyderabad'\n",
    "combined_df.at[2179,'HeadQuarter'] = 'Bangalore'\n",
    "combined_df.at[2191,'HeadQuarter'] = 'New York'\n",
    "combined_df.at[2196,'HeadQuarter'] = 'Gurugram'\n",
    "combined_df.at[2198,'HeadQuarter'] = 'Bangalore'\n",
    "combined_df.at[2199,'HeadQuarter'] = 'California'\n",
    "combined_df.at[2203,'HeadQuarter'] = 'Illinois'\n",
    "combined_df.at[2204,'HeadQuarter'] = 'Singapore'\n",
    "combined_df.at[2205,'HeadQuarter'] = 'Bengaluru'\n",
    "combined_df.at[2211,'HeadQuarter'] = 'Massachusetts'\n",
    "combined_df.at[2213,'HeadQuarter'] = 'Hyderabad'\n",
    "combined_df.at[2217,'HeadQuarter'] = 'Ahmedabad'\n",
    "combined_df.at[2225,'HeadQuarter'] = 'New Delhi'\n",
    "combined_df.at[2228,'HeadQuarter'] = 'Bengaluru'\n",
    "combined_df.at[2234,'HeadQuarter'] = 'San Fransisco'\n",
    "combined_df.at[2236,'HeadQuarter'] = 'New Delhi'\n",
    "combined_df.at[2238,'HeadQuarter'] = 'Mumbai'\n",
    "combined_df.at[2240,'HeadQuarter'] = 'Mumbai'\n",
    "combined_df.at[2241,'HeadQuarter'] = 'Gurgaon'\n",
    "combined_df.at[2242,'HeadQuarter'] = 'Bengaluru'\n",
    "combined_df.at[2243,'HeadQuarter'] = 'Gurgaon'\n",
    "combined_df.at[2244,'HeadQuarter'] = 'Bangalore'\n",
    "combined_df.at[2250,'HeadQuarter'] = 'Noida'\n",
    "combined_df.at[2254,'HeadQuarter'] = 'Pune'\n",
    "combined_df.at[2256,'HeadQuarter'] = 'New Delhi'\n",
    "combined_df.at[2260,'HeadQuarter'] = 'Bangalore'\n",
    "combined_df.at[2264,'HeadQuarter'] = 'New Delhi'\n",
    "combined_df.at[2272,'HeadQuarter'] = 'Massachusetts'\n",
    "combined_df.at[2278,'HeadQuarter'] = 'Mumbai'\n",
    "combined_df.at[2280,'HeadQuarter'] = 'Bangalore'\n",
    "combined_df.at[2282,'HeadQuarter'] = 'Mumbai'\n",
    "combined_df.at[2285,'HeadQuarter'] = 'Gurgaon'\n",
    "combined_df.at[2286,'HeadQuarter'] = 'San Francisco'\n",
    "combined_df.at[2291,'HeadQuarter'] = 'San Francisco'\n",
    "combined_df.at[2293,'HeadQuarter'] = 'Gurugram'\n",
    "combined_df.at[2295,'HeadQuarter'] = 'Gurgaon'\n",
    "combined_df.at[2298,'HeadQuarter'] = 'Gurugram'\n",
    "combined_df.at[2305,'HeadQuarter'] = 'Gurgaon'\n",
    "combined_df.at[2307,'HeadQuarter'] = 'Bengaluru'\n",
    "combined_df.at[2318,'HeadQuarter'] = 'Gurugram'\n",
    "combined_df.at[2329,'HeadQuarter'] = 'New Delhi'\n",
    "combined_df.at[2334,'HeadQuarter'] = 'Chennai'\n",
    "combined_df.at[2340,'HeadQuarter'] = 'Bengaluru'\n",
    "combined_df.at[2343,'HeadQuarter'] = 'Bangalore'\n",
    "combined_df.at[2365,'HeadQuarter'] = 'Atlanta'\n",
    "combined_df.at[2395,'HeadQuarter'] = 'Faridabad'\n",
    "combined_df.at[2412,'HeadQuarter'] = 'New Delhi'\n",
    "combined_df.at[2552,'HeadQuarter'] = 'Noida'\n"
   ]
  },
  {
   "cell_type": "markdown",
   "metadata": {},
   "source": [
    "Stage Column"
   ]
  },
  {
   "cell_type": "code",
   "execution_count": 40,
   "metadata": {},
   "outputs": [
    {
     "data": {
      "text/plain": [
       "array(['Pre-series A', nan, 'Series D', 'Series C', 'Seed', 'Series B',\n",
       "       'Series E', 'Pre-seed', 'Series A', 'Pre-series B', 'Debt',\n",
       "       '$1200000', 'Bridge', 'Seed+', 'Series F2', 'Series A+',\n",
       "       'Series G', 'Series F', 'Series H', 'Series B3', 'PE', 'Series F1',\n",
       "       'Pre-series A1', '$300000', 'Early seed', 'Series D1', '$6000000',\n",
       "       '$1000000', 'Seies A', 'Pre-series', 'Series A2', 'Series I',\n",
       "       'Pre-series C', 'Series B2', 'Pre- series A', 'Edge',\n",
       "       'Pre-Series B', 'Seed A', 'Series A-1', 'Seed Funding', 'Pre-Seed',\n",
       "       'Seed round', 'Pre-seed Round', 'Seed Round & Series A',\n",
       "       'Pre Series A', 'Pre seed Round', 'Angel Round', 'Pre series A1',\n",
       "       'Series E2', 'Pre series A', 'Seed Round', 'Bridge Round',\n",
       "       'Pre seed round', 'Pre series B', 'Pre series C',\n",
       "       'Seed Investment', 'Mid series', 'Series C, D', 'Seed funding',\n",
       "       'Fresh funding', 'Post series A', 'Seed fund', 'Series B+',\n",
       "       'Angel', 'Private Equity', 'Venture - Series Unknown', 'Grant',\n",
       "       'Debt Financing', 'Post-IPO Debt', 'Corporate Round',\n",
       "       'Undisclosed',\n",
       "       'https://docs.google.com/spreadsheets/d/1x9ziNeaz6auNChIHnMI8U6kS7knTr3byy_YBGfQaoUA/edit#gid=1861303593',\n",
       "       'Secondary Market', 'Post-IPO Equity', 'Non-equity Assistance',\n",
       "       'Funding Round'], dtype=object)"
      ]
     },
     "execution_count": 40,
     "metadata": {},
     "output_type": "execute_result"
    }
   ],
   "source": [
    "\n",
    "combined_df['Stage'].unique()"
   ]
  },
  {
   "cell_type": "code",
   "execution_count": 41,
   "metadata": {},
   "outputs": [],
   "source": [
    "\n",
    "# Fill missing values in the 'Stage' column using forward fill and backward fill\n",
    "\n",
    "# combined_df['Stage'] = combined_df['Stage'].fillna(method='ffill').fillna(method='bfill')\n"
   ]
  },
  {
   "cell_type": "code",
   "execution_count": 117,
   "metadata": {},
   "outputs": [
    {
     "name": "stdout",
     "output_type": "stream",
     "text": [
      "['Pre-Series A' 'Seed' 'Series A' 'Series B' 'Pre-series B' 'Series C'\n",
      " 'Series F' 'Series D' 'Early seed' 'Series E' 'Pre-series' 'Pre-series C'\n",
      " 'Pre-Series B' 'Pre-Seed' 'Seed round' 'Pre seed Round' 'Pre seed round'\n",
      " 'Pre series B' 'Pre series C' 'Series G' 'Post series A']\n"
     ]
    }
   ],
   "source": [
    "# List of values to remove\n",
    "remove_values = [\n",
    "    'https://docs.google.com/spreadsheets/d/1x9ziNeaz6auNChIHnMI8U6kS7knTr3byy_YBGfQaoUA/edit#gid=1861303593',\n",
    "    '$1200000', '$300000', '$6000000', '$1000000', 'Undisclosed', 'Edge', 'Mid series', 'Fresh funding', 'Debt', 'PE', 'Bridge Round',\n",
    "    'Mid series', 'Private Equity','Venture - Series Unknown', 'Grant', 'Debt Financing', 'Post-IPO Debt', 'Corporate Round', \n",
    "    'Undisclosed', 'Secondary Market', 'Post-IPO Equity', 'Non-equity Assistance', 'Funding Round', 'Bridge', 'Angel', 'Angel Round'\n",
    "]\n",
    "\n",
    "# Filter out rows with unwanted values\n",
    "df_cleaned = combined_df[~combined_df['Stage'].isin(remove_values)]\n",
    "\n",
    "\n",
    "# Define the mapping dictionary\n",
    "stage_mapping = {\n",
    "    'Pre-Series A': ['Pre Series A', 'Pre series A1', 'Series A2', 'Pre-series A', 'Pre series A', 'Pre-series A', 'Pre series A',\n",
    "                     'Pre-series A', 'Pre-series A1','Pre series A'],\n",
    "    'Pre-Series B': ['Pre-Series B', 'Pre Series B'],\n",
    "    'Series B': ['Series B', 'Series B3', 'Series B+', 'Series B2', 'Venture - Series Unknown', 'Debt'],\n",
    "    'Series A': ['Series A+', 'Series A-1', 'Series A', 'Seed Round & Series A', 'Pre-series A1'],\n",
    "    'Series F': ['Series F', 'Series F2', 'Series F1'],\n",
    "    'Seed': ['Seed Investment', 'Seed Funding', 'Seed funding', 'Seed+', 'Pre-seed Round', 'Seed A', 'Seed fund'],\n",
    "    'Series E': ['Series E', 'Series E2'],\n",
    "    'Pre-Series C': ['Pre-Series C', 'Pre Series C'],\n",
    "    'Series C' : ['Series C, D'],\n",
    "    'Series D': ['Series D1']\n",
    "}\n",
    "\n",
    "# Invert the mapping dictionary to map individual variations to their standard stage names\n",
    "inverted_mapping = {v: k for k, values in stage_mapping.items() for v in values}\n",
    "\n",
    "# Apply the mapping to the 'Stage' column permanently\n",
    "df_cleaned['Stage'] = df_cleaned['Stage'].replace(inverted_mapping)\n",
    "\n",
    "# Display the updated DataFrame to verify the changes\n",
    "print(df_cleaned['Stage'].unique())\n"
   ]
  },
  {
   "cell_type": "code",
   "execution_count": 105,
   "metadata": {},
   "outputs": [
    {
     "data": {
      "text/plain": [
       "\"\\n# Define the mapping dictionary\\nstage_mapping = {\\n    'Pre-Series A': ['Pre-Series A', 'Pre Series A', 'Pre series A1', 'Series A2', 'Pre- series A', 'Seies A'],\\n    'Pre-Series B': ['Pre-Series B', 'Pre Series B'],\\n    'Series B': ['Series B', 'Series B3', 'Series B+', 'Series B2', 'Venture - Series Unknown', 'Debt'],\\n    'Series A': ['Series A+', 'Series A-1', 'Series A', 'Seed Round & Series A', 'Pre-series A1'],\\n    'Series F': ['Series F', 'Series F2', 'Series F1'],\\n    'Seed': ['Seed Investment', 'Seed Funding', 'Seed funding', 'Seed+', 'Pre-seed Round', 'Seed Round', 'Pre-seed'],\\n    'Series E': ['Series E', 'Series E2'],\\n    'Pre-Series C': ['Pre-Series C', 'Pre Series C'],\\n    'Series C' : ['Series C, D'],\\n    'Series D': ['Series D1']\\n}\\n\\n# Invert the mapping dictionary to map individual variations to their standard stage names\\ninverted_mapping = {v: k for k, values in stage_mapping.items() for v in values}\\n\\n# Apply the mapping to the 'stage' column permanently\\ncombined_df['Stage'] = combined_df['Stage'].replace(inverted_mapping)\\n\\n# Display the updated DataFrame to verify the changes\\nprint(combined_df['Stage'].unique())\\n\""
      ]
     },
     "execution_count": 105,
     "metadata": {},
     "output_type": "execute_result"
    }
   ],
   "source": [
    "'''\n",
    "# Define the mapping dictionary\n",
    "stage_mapping = {\n",
    "    'Pre-Series A': ['Pre-Series A', 'Pre Series A', 'Pre series A1', 'Series A2', 'Pre- series A', 'Seies A'],\n",
    "    'Pre-Series B': ['Pre-Series B', 'Pre Series B'],\n",
    "    'Series B': ['Series B', 'Series B3', 'Series B+', 'Series B2', 'Venture - Series Unknown', 'Debt'],\n",
    "    'Series A': ['Series A+', 'Series A-1', 'Series A', 'Seed Round & Series A', 'Pre-series A1'],\n",
    "    'Series F': ['Series F', 'Series F2', 'Series F1'],\n",
    "    'Seed': ['Seed Investment', 'Seed Funding', 'Seed funding', 'Seed+', 'Pre-seed Round', 'Seed Round', 'Pre-seed'],\n",
    "    'Series E': ['Series E', 'Series E2'],\n",
    "    'Pre-Series C': ['Pre-Series C', 'Pre Series C'],\n",
    "    'Series C' : ['Series C, D'],\n",
    "    'Series D': ['Series D1']\n",
    "}\n",
    "\n",
    "# Invert the mapping dictionary to map individual variations to their standard stage names\n",
    "inverted_mapping = {v: k for k, values in stage_mapping.items() for v in values}\n",
    "\n",
    "# Apply the mapping to the 'stage' column permanently\n",
    "combined_df['Stage'] = combined_df['Stage'].replace(inverted_mapping)\n",
    "\n",
    "# Display the updated DataFrame to verify the changes\n",
    "print(combined_df['Stage'].unique())\n",
    "'''"
   ]
  },
  {
   "cell_type": "code",
   "execution_count": 45,
   "metadata": {},
   "outputs": [
    {
     "data": {
      "text/plain": [
       "Index(['Company', 'Founded', 'HeadQuarter', 'Sector', 'What it does',\n",
       "       'Founders', 'Investor', 'Amount($)', 'Stage', 'year'],\n",
       "      dtype='object')"
      ]
     },
     "execution_count": 45,
     "metadata": {},
     "output_type": "execute_result"
    }
   ],
   "source": [
    "combined_df.columns"
   ]
  },
  {
   "cell_type": "markdown",
   "metadata": {},
   "source": [
    "Sector Column"
   ]
  },
  {
   "cell_type": "code",
   "execution_count": 46,
   "metadata": {},
   "outputs": [],
   "source": [
    "# Handling Missing Values In The Sector Column\n",
    "\n",
    "# Fill missing values in the 'Sector'column with the most frequent sector\n",
    "\n",
    "most_frequent_sector = combined_df['Sector'].mode()[0]\n",
    "combined_df['Sector'].fillna(most_frequent_sector, inplace=True)\n"
   ]
  },
  {
   "cell_type": "markdown",
   "metadata": {},
   "source": [
    "Founders Column"
   ]
  },
  {
   "cell_type": "code",
   "execution_count": 47,
   "metadata": {},
   "outputs": [],
   "source": [
    "# Fill missing values in the 'Founders'column with 'Undisclosed'\n",
    "\n",
    "combined_df['Founders'].fillna('Undisclosed', inplace=True)\n"
   ]
  },
  {
   "cell_type": "markdown",
   "metadata": {},
   "source": [
    "Investor Column"
   ]
  },
  {
   "cell_type": "code",
   "execution_count": 48,
   "metadata": {},
   "outputs": [],
   "source": [
    "# Fill missing values in the 'Investor'column with 'Undisclosed'\n",
    "\n",
    "combined_df['Investor'].fillna('Undisclosed', inplace=True)\n"
   ]
  },
  {
   "cell_type": "markdown",
   "metadata": {},
   "source": [
    "Founded Column"
   ]
  },
  {
   "cell_type": "code",
   "execution_count": 49,
   "metadata": {},
   "outputs": [],
   "source": [
    "# Fill missing values in the 'Founded'column with 'Unknown'\n",
    "\n",
    "combined_df['Founded'].fillna('Unknown', inplace=True)"
   ]
  },
  {
   "cell_type": "markdown",
   "metadata": {},
   "source": [
    "Amount Column"
   ]
  },
  {
   "cell_type": "code",
   "execution_count": 50,
   "metadata": {},
   "outputs": [
    {
     "data": {
      "text/plain": [
       "0      1200000.0\n",
       "1    120000000.0\n",
       "2     30000000.0\n",
       "3     51000000.0\n",
       "4      2000000.0\n",
       "Name: Amount($), dtype: float64"
      ]
     },
     "execution_count": 50,
     "metadata": {},
     "output_type": "execute_result"
    }
   ],
   "source": [
    "# Fill missing values in the 'Amount' column with the median\n",
    "\n",
    "amount_median = combined_df['Amount($)'].median()\n",
    "combined_df['Amount($)'] = combined_df['Amount($)'].fillna(amount_median)\n",
    "combined_df['Amount($)'].head()\n"
   ]
  },
  {
   "cell_type": "code",
   "execution_count": 51,
   "metadata": {},
   "outputs": [
    {
     "data": {
      "text/plain": [
       "Company         0\n",
       "Founded         0\n",
       "HeadQuarter     7\n",
       "Sector          0\n",
       "What it does    0\n",
       "Founders        0\n",
       "Investor        0\n",
       "Amount($)       0\n",
       "Stage           0\n",
       "year            0\n",
       "dtype: int64"
      ]
     },
     "execution_count": 51,
     "metadata": {},
     "output_type": "execute_result"
    }
   ],
   "source": [
    "# Checking for null values\n",
    "\n",
    "combined_df.isna().sum()\n"
   ]
  },
  {
   "cell_type": "code",
   "execution_count": 52,
   "metadata": {},
   "outputs": [
    {
     "name": "stdout",
     "output_type": "stream",
     "text": [
      "1296    NaN\n",
      "1301    NaN\n",
      "1304    NaN\n",
      "1330    NaN\n",
      "2132    NaN\n",
      "2222    NaN\n",
      "2284    NaN\n",
      "Name: HeadQuarter, dtype: object\n"
     ]
    }
   ],
   "source": [
    "# Identify the 4 missing values in the HeadQuarter column\n",
    "\n",
    "# Select rows where 'HeadQuarter' column has missing values\n",
    "\n",
    "missing_hq_rows = combined_df[combined_df['HeadQuarter'].isnull()]\n",
    "\n",
    "# Display the rows with missing values in the 'HeadQuarter' column\n",
    "print(missing_hq_rows['HeadQuarter'])\n"
   ]
  },
  {
   "cell_type": "code",
   "execution_count": 53,
   "metadata": {},
   "outputs": [],
   "source": [
    "# Fill the  missing values with the respective headquarters\n",
    "\n",
    "combined_df.at[1296,'HeadQuarter'] = 'Mumbai'\n",
    "combined_df.at[1301,'HeadQuarter'] = 'Gurgaon'\n",
    "combined_df.at[1304,'HeadQuarter'] = 'Mumbai'\n",
    "combined_df.at[1330,'HeadQuarter'] = 'Gurgaon'\n",
    "combined_df.at[2132,'HeadQuarter'] = 'San Francisco'\n",
    "combined_df.at[2222,'HeadQuarter'] = 'New Delhi'\n",
    "combined_df.at[2284,'HeadQuarter'] = 'London'"
   ]
  },
  {
   "cell_type": "code",
   "execution_count": 54,
   "metadata": {},
   "outputs": [
    {
     "data": {
      "text/plain": [
       "Company         0\n",
       "Founded         0\n",
       "HeadQuarter     0\n",
       "Sector          0\n",
       "What it does    0\n",
       "Founders        0\n",
       "Investor        0\n",
       "Amount($)       0\n",
       "Stage           0\n",
       "year            0\n",
       "dtype: int64"
      ]
     },
     "execution_count": 54,
     "metadata": {},
     "output_type": "execute_result"
    }
   ],
   "source": [
    "# Checking for null values\n",
    "\n",
    "combined_df.isna().sum()"
   ]
  },
  {
   "cell_type": "markdown",
   "metadata": {},
   "source": [
    "\n",
    "Standardization Of Consistent Format Of Data"
   ]
  },
  {
   "cell_type": "code",
   "execution_count": null,
   "metadata": {},
   "outputs": [],
   "source": [
    "combined_df['Sector'].unique()"
   ]
  },
  {
   "cell_type": "markdown",
   "metadata": {},
   "source": [
    "\n",
    "For Sectors"
   ]
  },
  {
   "cell_type": "code",
   "execution_count": 56,
   "metadata": {},
   "outputs": [],
   "source": [
    "# Ensuring consistent formatting for columns\n",
    "\n",
    "\n",
    "# Categorizing the sectors using regular expression\n",
    "\n",
    "import re\n",
    "\n",
    "def sector_redistribution(sector):\n",
    "    sector = sector.lower()  # Convert sector to lowercase for case-insensitive matching\n",
    "    \n",
    "    # Define regular expressions for each broad sector category\n",
    "    if re.search(r'bank|fintech|finance|crypto|account|credit|venture|crowd|blockchain|lending|trading|wealth|investment|insurance|payments', sector):\n",
    "        return 'Financial Services'\n",
    "    elif re.search(r'health|pharma|biotech|med|hospital|clinic|wellness|care|medical|nutrition|diagnostics|life science|device', sector):\n",
    "        return 'Healthcare'\n",
    "    elif re.search(r'edu|school|college|learn|tutor|academy|elearning|edtech|training|higher education|skill assessment|stem', sector):\n",
    "        return 'Education'\n",
    "    elif re.search(r'tech|software|it|computer|cloud|data|ai|ml|cyber|saas|iot|ar|vr|paas|machine learning|virtual', sector):\n",
    "        return 'Technology'\n",
    "    elif re.search(r'media|entertain|film|music|tv|video|publishing|news|streaming|gaming|sports|video games|digital', sector):\n",
    "        return 'Media and Entertainment'\n",
    "    elif re.search(r'travel|tour|hotel|restaurant|food|hospitality|tourism|accommodation|leisure|transport|logistics|delivery|automotive|railroad|freight', sector):\n",
    "        return 'Hospitality and Tourism'\n",
    "    elif re.search(r'retail|e-commerce|shop|store|mall|ecommerce|shopping|fashion|marketplace|jewelry|interior design|home decor|furniture|beauty', sector):\n",
    "        return 'Retail and E-Commerce'\n",
    "    elif re.search(r'energy|power|oil|gas|renewable|solar|wind|cleantech|environmental|natural resources|clean energy', sector):\n",
    "        return 'Energy'\n",
    "    elif re.search(r'real estate|property|housing|construction|building|interior design|home renovation|smart home|rental|property management', sector):\n",
    "        return 'Real Estate'\n",
    "    elif re.search(r'auto|car|vehicle|transport|logistics|delivery|shipping|automotive tech|electric vehicle|autonomous vehicles', sector):\n",
    "        return 'Automotive and Transportation'\n",
    "    elif re.search(r'agri|farm|agriculture|crop|livestock|agtech|farming|food processing|farmers market', sector):\n",
    "        return 'Agriculture'\n",
    "    elif re.search(r'consumer goods|fmcg|goods|product|consumer|lifestyle|home services|personalization|wellness', sector):\n",
    "        return 'Consumer Goods'\n",
    "    elif re.search(r'aero|defense|military|space|aerospace', sector):\n",
    "        return 'Aerospace and Defense'\n",
    "    elif re.search(r'insurance|insure|policy|insurtech|health insurance|life insurance|property insurance', sector):\n",
    "        return 'Insurance'\n",
    "    elif re.search(r'utility|water|electric|gas|utilities', sector):\n",
    "        return 'Utilities'\n",
    "    elif re.search(r'nonprofit|charity|ngo|social|non-profit|social entrepreneurship|incubators|crowdfunding|funding platform', sector):\n",
    "        return 'Nonprofit and Social Services'\n",
    "    elif re.search(r'prof|consult|service|advisor|law|legal|account|business development|consulting|professional services', sector):\n",
    "        return 'Professional Services'\n",
    "    elif re.search(r'manufacture|factory|production|industrial|machinery|industrial automation|product design', sector):\n",
    "        return 'Manufacturing'\n",
    "    else:\n",
    "        return 'Other'\n",
    "\n",
    "# Apply the sector_redistribution function to the Sector column\n",
    "combined_df['Sector'] = combined_df['Sector'].apply(sector_redistribution)\n"
   ]
  },
  {
   "cell_type": "markdown",
   "metadata": {},
   "source": [
    "\n",
    "For HeadQuarters"
   ]
  },
  {
   "cell_type": "code",
   "execution_count": 57,
   "metadata": {},
   "outputs": [],
   "source": [
    "import re\n",
    "\n",
    "def simplify_location(location):\n",
    "    # Check if the input is a string\n",
    "    if isinstance(location, str):\n",
    "        # Extract only the city name using regular expression\n",
    "        city = re.split(',|\\\\s', location)[0]\n",
    "        return city.strip()\n",
    "    else:\n",
    "        # Return the input if it's not a string\n",
    "        return location\n",
    "\n",
    "# Apply the function to the HeadQuarter column\n",
    "combined_df['HeadQuarter'] = combined_df['HeadQuarter'].apply(simplify_location)\n"
   ]
  },
  {
   "cell_type": "markdown",
   "metadata": {},
   "source": [
    "\n",
    "For Amount"
   ]
  },
  {
   "cell_type": "code",
   "execution_count": 58,
   "metadata": {},
   "outputs": [
    {
     "data": {
      "text/plain": [
       "0     1200000.00\n",
       "1   120000000.00\n",
       "2    30000000.00\n",
       "3    51000000.00\n",
       "4     2000000.00\n",
       "Name: Amount($), dtype: float64"
      ]
     },
     "execution_count": 58,
     "metadata": {},
     "output_type": "execute_result"
    }
   ],
   "source": [
    "# Assuming all amounts have been converted to USD in previous steps\n",
    "\n",
    "# Convert to numeric, setting errors='coerce' will convert non-numeric values to NaN\n",
    "combined_df['Amount($)'] = pd.to_numeric(combined_df['Amount($)'], errors='coerce')\n",
    "\n",
    "# Set the display option for floating point numbers \n",
    "pd.options.display.float_format = '{:.2f}'.format\n",
    "\n",
    "# Alternatively, round the numbers to two decimal places for display purposes\n",
    "combined_df['Amount($)'] = combined_df['Amount($)'].round(2)\n",
    "\n",
    "combined_df['Amount($)'].head()\n"
   ]
  },
  {
   "cell_type": "markdown",
   "metadata": {},
   "source": [
    "\n",
    "Removing Duplicates"
   ]
  },
  {
   "cell_type": "code",
   "execution_count": 59,
   "metadata": {},
   "outputs": [
    {
     "name": "stdout",
     "output_type": "stream",
     "text": [
      "20\n"
     ]
    }
   ],
   "source": [
    "# Check for duplicates\n",
    "print(combined_df.duplicated().sum())\n",
    "\n",
    "# Drop duplicate rows\n",
    "combined_df.drop_duplicates(inplace=True)\n"
   ]
  },
  {
   "cell_type": "markdown",
   "metadata": {},
   "source": [
    "\n",
    "Outlier Detection And Handling"
   ]
  },
  {
   "cell_type": "code",
   "execution_count": 60,
   "metadata": {},
   "outputs": [
    {
     "name": "stdout",
     "output_type": "stream",
     "text": [
      "float64\n"
     ]
    }
   ],
   "source": [
    "print(combined_df['Amount($)'].dtype)\n"
   ]
  },
  {
   "cell_type": "code",
   "execution_count": 61,
   "metadata": {},
   "outputs": [
    {
     "name": "stdout",
     "output_type": "stream",
     "text": [
      "Number of outliers: 470\n"
     ]
    }
   ],
   "source": [
    "# Identify outliers using IQR (Interquartile Range)\n",
    "\n",
    "Q1 = combined_df['Amount($)'].quantile(0.25)\n",
    "Q3 = combined_df['Amount($)'].quantile(0.75)\n",
    "IQR = Q3 - Q1\n",
    "\n",
    "# Define outlier thresholds\n",
    "lower_bound = Q1 - 1.5 * IQR\n",
    "upper_bound = Q3 + 1.5 * IQR\n",
    "# The factor of 1.5 is a commonly used value for detecting outliers using the IQR method.\n",
    "\n",
    "# Filter out outliers\n",
    "outliers = combined_df[(combined_df['Amount($)'] < lower_bound) | (combined_df['Amount($)'] > upper_bound)]\n",
    "print(f\"Number of outliers: {outliers.shape[0]}\")\n",
    "\n",
    "# Remove outliers\n",
    "combined_df = combined_df[(combined_df['Amount($)'] >= lower_bound) & (combined_df['Amount($)'] <= upper_bound)]\n"
   ]
  },
  {
   "cell_type": "code",
   "execution_count": 118,
   "metadata": {},
   "outputs": [],
   "source": [
    "# Save the cleaned DataFrame\n",
    "\n",
    "combined_df.to_csv('clean_combined_dataset.csv', index=False)\n",
    "\n",
    "# Load the csv into a dataframe\n",
    "\n",
    "clean_combined_df = pd.read_csv('clean_combined_dataset.csv')\n"
   ]
  },
  {
   "cell_type": "code",
   "execution_count": 63,
   "metadata": {},
   "outputs": [
    {
     "data": {
      "text/plain": [
       "Index(['Company', 'Founded', 'HeadQuarter', 'Sector', 'What it does',\n",
       "       'Founders', 'Investor', 'Amount($)', 'Stage', 'year'],\n",
       "      dtype='object')"
      ]
     },
     "execution_count": 63,
     "metadata": {},
     "output_type": "execute_result"
    }
   ],
   "source": [
    "clean_combined_df.columns"
   ]
  },
  {
   "cell_type": "markdown",
   "metadata": {},
   "source": [
    "\n",
    "# Hypothesis Testing "
   ]
  },
  {
   "cell_type": "code",
   "execution_count": 64,
   "metadata": {},
   "outputs": [
    {
     "name": "stdout",
     "output_type": "stream",
     "text": [
      "                        sum_sq      df    F  PR(>F)\n",
      "C(Sector)   651396005523341.38   17.00 3.20    0.00\n",
      "Residual  28363452439870728.00 2371.00  NaN     NaN\n",
      "Reject the null hypothesis: There is a significant difference in the average funding amounts across different sectors.\n"
     ]
    }
   ],
   "source": [
    "\n",
    "import statsmodels.api as sm\n",
    "from statsmodels.formula.api import ols\n",
    "\n",
    "# Fit the model\n",
    "# The Q(\"Amount($)\") syntax is used to handle column names with special characters like $\n",
    "model = ols('Q(\"Amount($)\") ~ C(Sector)', data=clean_combined_df).fit()\n",
    "\n",
    "# Perform ANOVA\n",
    "anova_table = sm.stats.anova_lm(model, typ=2)\n",
    "print(anova_table)\n",
    "\n",
    "# Interpret the results\n",
    "alpha = 0.05\n",
    "p_value = anova_table['PR(>F)'][0]\n",
    "if p_value < alpha:\n",
    "    print(\"Reject the null hypothesis: There is a significant difference in the average funding amounts across different sectors.\")\n",
    "else:\n",
    "    print(\"Fail to reject the null hypothesis: There is no significant difference in the average funding amounts across different sectors.\")\n"
   ]
  },
  {
   "cell_type": "markdown",
   "metadata": {},
   "source": [
    "# Analysis"
   ]
  },
  {
   "cell_type": "code",
   "execution_count": 65,
   "metadata": {},
   "outputs": [
    {
     "data": {
      "text/html": [
       "<div>\n",
       "<style scoped>\n",
       "    .dataframe tbody tr th:only-of-type {\n",
       "        vertical-align: middle;\n",
       "    }\n",
       "\n",
       "    .dataframe tbody tr th {\n",
       "        vertical-align: top;\n",
       "    }\n",
       "\n",
       "    .dataframe thead th {\n",
       "        text-align: right;\n",
       "    }\n",
       "</style>\n",
       "<table border=\"1\" class=\"dataframe\">\n",
       "  <thead>\n",
       "    <tr style=\"text-align: right;\">\n",
       "      <th></th>\n",
       "      <th>Company</th>\n",
       "      <th>Founded</th>\n",
       "      <th>HeadQuarter</th>\n",
       "      <th>Sector</th>\n",
       "      <th>What it does</th>\n",
       "      <th>Founders</th>\n",
       "      <th>Investor</th>\n",
       "      <th>Amount($)</th>\n",
       "      <th>Stage</th>\n",
       "      <th>year</th>\n",
       "    </tr>\n",
       "  </thead>\n",
       "  <tbody>\n",
       "    <tr>\n",
       "      <th>0</th>\n",
       "      <td>Unbox Robotics</td>\n",
       "      <td>2019.0</td>\n",
       "      <td>Bangalore</td>\n",
       "      <td>Technology</td>\n",
       "      <td>Unbox Robotics builds on-demand AI-driven ware...</td>\n",
       "      <td>Pramod Ghadge, Shahid Memon</td>\n",
       "      <td>BEENEXT, Entrepreneur First</td>\n",
       "      <td>1200000.00</td>\n",
       "      <td>Pre-series A</td>\n",
       "      <td>2021</td>\n",
       "    </tr>\n",
       "    <tr>\n",
       "      <th>1</th>\n",
       "      <td>FypMoney</td>\n",
       "      <td>2021.0</td>\n",
       "      <td>Gurugram</td>\n",
       "      <td>Financial Services</td>\n",
       "      <td>FypMoney is Digital NEO Bank for Teenagers, em...</td>\n",
       "      <td>Kapil Banwari</td>\n",
       "      <td>Liberatha Kallat, Mukesh Yadav, Dinesh Nagpal</td>\n",
       "      <td>2000000.00</td>\n",
       "      <td>Seed</td>\n",
       "      <td>2021</td>\n",
       "    </tr>\n",
       "    <tr>\n",
       "      <th>2</th>\n",
       "      <td>Comofi Medtech</td>\n",
       "      <td>2018.0</td>\n",
       "      <td>Bangalore</td>\n",
       "      <td>Healthcare</td>\n",
       "      <td>Comofi Medtech is a healthcare robotics startup.</td>\n",
       "      <td>Gururaj KB</td>\n",
       "      <td>CIIE.CO, KIIT-TBI</td>\n",
       "      <td>200000.00</td>\n",
       "      <td>Seed</td>\n",
       "      <td>2021</td>\n",
       "    </tr>\n",
       "    <tr>\n",
       "      <th>3</th>\n",
       "      <td>Qube Health</td>\n",
       "      <td>2016.0</td>\n",
       "      <td>Mumbai</td>\n",
       "      <td>Healthcare</td>\n",
       "      <td>India's Most Respected Workplace Healthcare Ma...</td>\n",
       "      <td>Gagan Kapur</td>\n",
       "      <td>Inflection Point Ventures</td>\n",
       "      <td>3000000.00</td>\n",
       "      <td>Pre-series A</td>\n",
       "      <td>2021</td>\n",
       "    </tr>\n",
       "    <tr>\n",
       "      <th>4</th>\n",
       "      <td>Vitra.ai</td>\n",
       "      <td>2020.0</td>\n",
       "      <td>Bangalore</td>\n",
       "      <td>Technology</td>\n",
       "      <td>Vitra.ai is an AI-based video translation plat...</td>\n",
       "      <td>Akash Nidhi PS</td>\n",
       "      <td>Inflexor Ventures</td>\n",
       "      <td>3000000.00</td>\n",
       "      <td>Pre-series A</td>\n",
       "      <td>2021</td>\n",
       "    </tr>\n",
       "    <tr>\n",
       "      <th>...</th>\n",
       "      <td>...</td>\n",
       "      <td>...</td>\n",
       "      <td>...</td>\n",
       "      <td>...</td>\n",
       "      <td>...</td>\n",
       "      <td>...</td>\n",
       "      <td>...</td>\n",
       "      <td>...</td>\n",
       "      <td>...</td>\n",
       "      <td>...</td>\n",
       "    </tr>\n",
       "    <tr>\n",
       "      <th>2384</th>\n",
       "      <td>Dailyhunt</td>\n",
       "      <td>Unknown</td>\n",
       "      <td>Bangalore</td>\n",
       "      <td>Healthcare</td>\n",
       "      <td>NewsHunt is a Bangalore based eBooks company.</td>\n",
       "      <td>Undisclosed</td>\n",
       "      <td>Undisclosed</td>\n",
       "      <td>6000000.00</td>\n",
       "      <td>Series E</td>\n",
       "      <td>2018</td>\n",
       "    </tr>\n",
       "    <tr>\n",
       "      <th>2385</th>\n",
       "      <td>SlicePay</td>\n",
       "      <td>Unknown</td>\n",
       "      <td>Bengaluru</td>\n",
       "      <td>Financial Services</td>\n",
       "      <td>SlicePay is an AI based instant credit app for...</td>\n",
       "      <td>Undisclosed</td>\n",
       "      <td>Undisclosed</td>\n",
       "      <td>14900000.00</td>\n",
       "      <td>Series A</td>\n",
       "      <td>2018</td>\n",
       "    </tr>\n",
       "    <tr>\n",
       "      <th>2386</th>\n",
       "      <td>Happyeasygo Group</td>\n",
       "      <td>Unknown</td>\n",
       "      <td>Haryana</td>\n",
       "      <td>Hospitality and Tourism</td>\n",
       "      <td>HappyEasyGo is an online travel domain.</td>\n",
       "      <td>Undisclosed</td>\n",
       "      <td>Undisclosed</td>\n",
       "      <td>3000000.00</td>\n",
       "      <td>Series A</td>\n",
       "      <td>2018</td>\n",
       "    </tr>\n",
       "    <tr>\n",
       "      <th>2387</th>\n",
       "      <td>Mombay</td>\n",
       "      <td>Unknown</td>\n",
       "      <td>Mumbai</td>\n",
       "      <td>Hospitality and Tourism</td>\n",
       "      <td>Mombay is a unique opportunity for housewives ...</td>\n",
       "      <td>Undisclosed</td>\n",
       "      <td>Undisclosed</td>\n",
       "      <td>7500.00</td>\n",
       "      <td>Seed</td>\n",
       "      <td>2018</td>\n",
       "    </tr>\n",
       "    <tr>\n",
       "      <th>2388</th>\n",
       "      <td>Droni Tech</td>\n",
       "      <td>Unknown</td>\n",
       "      <td>Mumbai</td>\n",
       "      <td>Technology</td>\n",
       "      <td>Droni Tech manufacture UAVs and develop softwa...</td>\n",
       "      <td>Undisclosed</td>\n",
       "      <td>Undisclosed</td>\n",
       "      <td>420000.00</td>\n",
       "      <td>Seed</td>\n",
       "      <td>2018</td>\n",
       "    </tr>\n",
       "  </tbody>\n",
       "</table>\n",
       "<p>2389 rows × 10 columns</p>\n",
       "</div>"
      ],
      "text/plain": [
       "                Company  Founded HeadQuarter                   Sector  \\\n",
       "0        Unbox Robotics   2019.0   Bangalore               Technology   \n",
       "1              FypMoney   2021.0    Gurugram       Financial Services   \n",
       "2        Comofi Medtech   2018.0   Bangalore               Healthcare   \n",
       "3           Qube Health   2016.0      Mumbai               Healthcare   \n",
       "4              Vitra.ai   2020.0   Bangalore               Technology   \n",
       "...                 ...      ...         ...                      ...   \n",
       "2384          Dailyhunt  Unknown   Bangalore               Healthcare   \n",
       "2385           SlicePay  Unknown   Bengaluru       Financial Services   \n",
       "2386  Happyeasygo Group  Unknown     Haryana  Hospitality and Tourism   \n",
       "2387             Mombay  Unknown      Mumbai  Hospitality and Tourism   \n",
       "2388         Droni Tech  Unknown      Mumbai               Technology   \n",
       "\n",
       "                                           What it does  \\\n",
       "0     Unbox Robotics builds on-demand AI-driven ware...   \n",
       "1     FypMoney is Digital NEO Bank for Teenagers, em...   \n",
       "2      Comofi Medtech is a healthcare robotics startup.   \n",
       "3     India's Most Respected Workplace Healthcare Ma...   \n",
       "4     Vitra.ai is an AI-based video translation plat...   \n",
       "...                                                 ...   \n",
       "2384      NewsHunt is a Bangalore based eBooks company.   \n",
       "2385  SlicePay is an AI based instant credit app for...   \n",
       "2386            HappyEasyGo is an online travel domain.   \n",
       "2387  Mombay is a unique opportunity for housewives ...   \n",
       "2388  Droni Tech manufacture UAVs and develop softwa...   \n",
       "\n",
       "                         Founders  \\\n",
       "0     Pramod Ghadge, Shahid Memon   \n",
       "1                   Kapil Banwari   \n",
       "2                      Gururaj KB   \n",
       "3                     Gagan Kapur   \n",
       "4                  Akash Nidhi PS   \n",
       "...                           ...   \n",
       "2384                  Undisclosed   \n",
       "2385                  Undisclosed   \n",
       "2386                  Undisclosed   \n",
       "2387                  Undisclosed   \n",
       "2388                  Undisclosed   \n",
       "\n",
       "                                           Investor   Amount($)         Stage  \\\n",
       "0                       BEENEXT, Entrepreneur First  1200000.00  Pre-series A   \n",
       "1     Liberatha Kallat, Mukesh Yadav, Dinesh Nagpal  2000000.00          Seed   \n",
       "2                                 CIIE.CO, KIIT-TBI   200000.00          Seed   \n",
       "3                         Inflection Point Ventures  3000000.00  Pre-series A   \n",
       "4                                 Inflexor Ventures  3000000.00  Pre-series A   \n",
       "...                                             ...         ...           ...   \n",
       "2384                                    Undisclosed  6000000.00      Series E   \n",
       "2385                                    Undisclosed 14900000.00      Series A   \n",
       "2386                                    Undisclosed  3000000.00      Series A   \n",
       "2387                                    Undisclosed     7500.00          Seed   \n",
       "2388                                    Undisclosed   420000.00          Seed   \n",
       "\n",
       "      year  \n",
       "0     2021  \n",
       "1     2021  \n",
       "2     2021  \n",
       "3     2021  \n",
       "4     2021  \n",
       "...    ...  \n",
       "2384  2018  \n",
       "2385  2018  \n",
       "2386  2018  \n",
       "2387  2018  \n",
       "2388  2018  \n",
       "\n",
       "[2389 rows x 10 columns]"
      ]
     },
     "execution_count": 65,
     "metadata": {},
     "output_type": "execute_result"
    }
   ],
   "source": [
    "# Load the csv into a dataframe\n",
    "import pandas as pd\n",
    "\n",
    "clean_combined_df = pd.read_csv('clean_combined_dataset.csv')\n",
    "clean_combined_df"
   ]
  },
  {
   "cell_type": "markdown",
   "metadata": {},
   "source": [
    "Descriptive Analysis"
   ]
  },
  {
   "cell_type": "code",
   "execution_count": 66,
   "metadata": {},
   "outputs": [
    {
     "data": {
      "text/plain": [
       "count       2389.00\n",
       "mean     3329941.60\n",
       "std      3485723.96\n",
       "min          720.00\n",
       "25%      1000000.00\n",
       "50%      3000000.00\n",
       "75%      3800000.00\n",
       "max     18500000.00\n",
       "Name: Amount($), dtype: float64"
      ]
     },
     "execution_count": 66,
     "metadata": {},
     "output_type": "execute_result"
    }
   ],
   "source": [
    "# Descriptive statistics\n",
    "\n",
    "# To get an overview of the funding amounts\n",
    "\n",
    "clean_combined_df['Amount($)'].describe()"
   ]
  },
  {
   "cell_type": "code",
   "execution_count": 67,
   "metadata": {},
   "outputs": [],
   "source": [
    "import matplotlib.pyplot as plt\n",
    "import seaborn as sns\n",
    "plt.style.use('seaborn-v0_8-darkgrid')\n"
   ]
  },
  {
   "cell_type": "code",
   "execution_count": 68,
   "metadata": {},
   "outputs": [
    {
     "name": "stdout",
     "output_type": "stream",
     "text": [
      "['Solarize_Light2', '_classic_test_patch', '_mpl-gallery', '_mpl-gallery-nogrid', 'bmh', 'classic', 'dark_background', 'fast', 'fivethirtyeight', 'ggplot', 'grayscale', 'seaborn-v0_8', 'seaborn-v0_8-bright', 'seaborn-v0_8-colorblind', 'seaborn-v0_8-dark', 'seaborn-v0_8-dark-palette', 'seaborn-v0_8-darkgrid', 'seaborn-v0_8-deep', 'seaborn-v0_8-muted', 'seaborn-v0_8-notebook', 'seaborn-v0_8-paper', 'seaborn-v0_8-pastel', 'seaborn-v0_8-poster', 'seaborn-v0_8-talk', 'seaborn-v0_8-ticks', 'seaborn-v0_8-white', 'seaborn-v0_8-whitegrid', 'tableau-colorblind10']\n"
     ]
    }
   ],
   "source": [
    "print(plt.style.available)"
   ]
  },
  {
   "cell_type": "markdown",
   "metadata": {},
   "source": [
    "Distribution Analysis"
   ]
  },
  {
   "cell_type": "code",
   "execution_count": 70,
   "metadata": {},
   "outputs": [
    {
     "data": {
      "image/png": "[encoded data removed]",
      "text/plain": [
       "<Figure size 1000x600 with 1 Axes>"
      ]
     },
     "metadata": {},
     "output_type": "display_data"
    }
   ],
   "source": [
    "# To get an overview of the spread and identify any skewness \n",
    "\n",
    "# In this case we'll use both the histogram \n",
    "\n",
    "\n",
    "# Histogram\n",
    "plt.figure(figsize=(10, 6))\n",
    "sns.histplot(clean_combined_df['Amount($)'], bins=30, kde=True)\n",
    "plt.title('Distribution of Funding Amounts')\n",
    "plt.xlabel('Funding Amount ($)')\n",
    "plt.ylabel('Frequency')\n",
    "plt.show()\n",
    "\n",
    "\n"
   ]
  },
  {
   "cell_type": "code",
   "execution_count": 76,
   "metadata": {},
   "outputs": [
    {
     "data": {
      "image/png": "[encoded data removed]",
      "text/plain": [
       "<Figure size 1000x600 with 1 Axes>"
      ]
     },
     "metadata": {},
     "output_type": "display_data"
    }
   ],
   "source": [
    "# To get an overview of outliers present\n",
    "\n",
    "# Using a box plot\n",
    "\n",
    "plt.figure(figsize=(10, 6))\n",
    "sns.boxplot(x=clean_combined_df['Amount($)'].dropna())  # Drop NaN values\n",
    "plt.title('Box Plot of Funding Amounts')\n",
    "plt.xlabel('Funding Amount ($)')\n",
    "plt.grid(False)\n",
    "plt.show()\n"
   ]
  },
  {
   "cell_type": "markdown",
   "metadata": {},
   "source": [
    "\n",
    "Time Series Analysis"
   ]
  },
  {
   "cell_type": "markdown",
   "metadata": {},
   "source": [
    "How has the total amount of funding received by start-ups in India changed from 2018-2021?"
   ]
  },
  {
   "cell_type": "code",
   "execution_count": 81,
   "metadata": {},
   "outputs": [
    {
     "data": {
      "image/png": "[encoded data removed]",
      "text/plain": [
       "<Figure size 1000x600 with 1 Axes>"
      ]
     },
     "metadata": {},
     "output_type": "display_data"
    }
   ],
   "source": [
    "\n",
    "# Group by year and sum the funding amounts\n",
    "funding_by_year = clean_combined_df.groupby('year')['Amount($)'].sum().reset_index()\n",
    "\n",
    "# Plot the trend\n",
    "plt.figure(figsize=(10, 6))\n",
    "plt.plot(funding_by_year['year'], funding_by_year['Amount($)'], marker='o')\n",
    "plt.title('Total Funding Received by Start-ups in India (2018-2021)')\n",
    "plt.xlabel('Year')\n",
    "plt.ylabel('Total Funding ($)')\n",
    "plt.xticks([2018, 2019, 2020, 2021])  # Set x-axis ticks to the specific years\n",
    "plt.grid(False)\n",
    "plt.show()\n",
    "\n",
    "plt.style.use('seaborn-v0_8-dark')\n",
    "\n",
    "\n"
   ]
  },
  {
   "cell_type": "markdown",
   "metadata": {},
   "source": [
    "\n",
    "Categorical Analysis"
   ]
  },
  {
   "cell_type": "markdown",
   "metadata": {},
   "source": [
    "Which sectors have received the most funding in each year?"
   ]
  },
  {
   "cell_type": "code",
   "execution_count": 82,
   "metadata": {},
   "outputs": [
    {
     "data": {
      "image/png": "[encoded data removed]",
      "text/plain": [
       "<Figure size 1400x800 with 1 Axes>"
      ]
     },
     "metadata": {},
     "output_type": "display_data"
    }
   ],
   "source": [
    "\n",
    "# Aggregate the total funding amount by sector\n",
    "total_funding_by_sector = clean_combined_df.groupby('Sector')['Amount($)'].sum().reset_index()\n",
    "\n",
    "# Sort the sectors by the total funding amount in descending order\n",
    "total_funding_by_sector = total_funding_by_sector.sort_values(by='Amount($)', ascending=False)\n",
    "\n",
    "# Plot the results\n",
    "plt.figure(figsize=(14, 8))\n",
    "plt.bar(total_funding_by_sector['Sector'], total_funding_by_sector['Amount($)'])\n",
    "plt.xticks(rotation=90)\n",
    "plt.title('Total Funding Received by Each Sector')\n",
    "plt.xlabel('Sector')\n",
    "plt.ylabel('Total Funding Amount ($)')\n",
    "plt.grid(False)\n",
    "plt.show()\n",
    "\n",
    "plt.style.use('seaborn-v0_8-dark')\n",
    "\n"
   ]
  },
  {
   "cell_type": "markdown",
   "metadata": {},
   "source": [
    "Who are the top investors in the India start-up ecosystem from 2018-2021?"
   ]
  },
  {
   "cell_type": "code",
   "execution_count": 83,
   "metadata": {},
   "outputs": [
    {
     "data": {
      "image/png": "[encoded data removed]",
      "text/plain": [
       "<Figure size 1200x600 with 1 Axes>"
      ]
     },
     "metadata": {},
     "output_type": "display_data"
    }
   ],
   "source": [
    "# Group by investor and sum the funding amounts\n",
    "funding_by_investor = clean_combined_df.groupby('Investor')['Amount($)'].sum().reset_index()\n",
    "\n",
    "# Identify top investors\n",
    "top_investors = funding_by_investor.sort_values(by='Amount($)', ascending=False).head(10)\n",
    "\n",
    "# Plot the top investors\n",
    "plt.figure(figsize=(12, 6))\n",
    "plt.bar(top_investors['Investor'], top_investors['Amount($)'])\n",
    "plt.title('Top Investors in the India Start-up Ecosystem (2018-2021)')\n",
    "plt.xlabel('Investor')\n",
    "plt.ylabel('Total Funding ($)')\n",
    "plt.xticks(rotation=45)\n",
    "plt.grid(False)\n",
    "plt.show()\n"
   ]
  },
  {
   "cell_type": "markdown",
   "metadata": {},
   "source": [
    "What is the distribution of investment amounts across different stages of funding?"
   ]
  },
  {
   "cell_type": "code",
   "execution_count": 119,
   "metadata": {},
   "outputs": [
    {
     "data": {
      "image/png": "[encoded data removed]",
      "text/plain": [
       "<Figure size 1400x800 with 1 Axes>"
      ]
     },
     "metadata": {},
     "output_type": "display_data"
    }
   ],
   "source": [
    "# Aggregate data by stage\n",
    "stage_distribution = combined_df.groupby('Stage').agg({\n",
    "    'Amount($)': 'sum',\n",
    "    'Stage': 'count'\n",
    "}).rename(columns={'Amount($)': 'Total Funding ($)', 'Stage': 'Number of Investments'}).reset_index()\n",
    "\n",
    "sorted_by_funding = stage_distribution.sort_values(by='Total Funding ($)', ascending=False)\n",
    "top_10_funding = sorted_by_funding.head(10)\n",
    "\n",
    "# Plot total funding by top 10 stages\n",
    "plt.figure(figsize=(14, 8))\n",
    "sns.barplot(x='Stage', y='Total Funding ($)', data=top_10_funding, palette='viridis')\n",
    "plt.xticks(rotation=45)\n",
    "plt.title('Top 10 Funding Stages by Total Funding Amount')\n",
    "plt.xlabel('Funding Stage')\n",
    "plt.ylabel('Total Funding ($)')\n",
    "plt.show()"
   ]
  },
  {
   "cell_type": "markdown",
   "metadata": {},
   "source": [
    "What is the distribution of funding amounts by number of investments?"
   ]
  },
  {
   "cell_type": "code",
   "execution_count": 120,
   "metadata": {},
   "outputs": [
    {
     "data": {
      "image/png": "[encoded data removed]",
      "text/plain": [
       "<Figure size 1400x800 with 1 Axes>"
      ]
     },
     "metadata": {},
     "output_type": "display_data"
    }
   ],
   "source": [
    "sorted_by_investments = stage_distribution.sort_values(by='Number of Investments', ascending=False)\n",
    "top_10_investments = sorted_by_investments.head(10)\n",
    "\n",
    "# Plot number of investments by top 10 stages\n",
    "plt.figure(figsize=(14, 8))\n",
    "sns.barplot(x='Stage', y='Number of Investments', data=top_10_investments, palette='viridis')\n",
    "plt.xticks(rotation=45)\n",
    "plt.title('Top 10 Funding Stages by Number of Investments')\n",
    "plt.xlabel('Funding Stage')\n",
    "plt.ylabel('Number of Investments')\n",
    "plt.show()"
   ]
  },
  {
   "cell_type": "markdown",
   "metadata": {},
   "source": [
    "\n",
    "Geographical Analysis"
   ]
  },
  {
   "cell_type": "markdown",
   "metadata": {},
   "source": [
    "Which regions or cities in India are receiving the most start-up funding?"
   ]
  },
  {
   "cell_type": "code",
   "execution_count": 84,
   "metadata": {},
   "outputs": [
    {
     "data": {
      "image/png": "[encoded data removed]",
      "text/plain": [
       "<Figure size 1200x600 with 1 Axes>"
      ]
     },
     "metadata": {},
     "output_type": "display_data"
    }
   ],
   "source": [
    "# Group by city and sum the funding amounts\n",
    "funding_by_city = clean_combined_df.groupby('HeadQuarter')['Amount($)'].sum().reset_index()\n",
    "\n",
    "# Identify top cities\n",
    "top_cities = funding_by_city.sort_values(by='Amount($)', ascending=False).head(10)\n",
    "\n",
    "# Plot the top cities\n",
    "plt.figure(figsize=(12, 6))\n",
    "plt.bar(top_cities['HeadQuarter'], top_cities['Amount($)'])\n",
    "plt.title('Top Cities Receiving Start-up Funding in India (2018-2021)')\n",
    "plt.xlabel('City')\n",
    "plt.ylabel('Total Funding ($)')\n",
    "plt.xticks(rotation=45)\n",
    "plt.show()\n"
   ]
  },
  {
   "cell_type": "markdown",
   "metadata": {},
   "source": [
    "\n",
    "Answering Key Analytical Qestions\n"
   ]
  },
  {
   "cell_type": "markdown",
   "metadata": {},
   "source": [
    "How has the total amount of funding received by start-ups in India changed from 2018-2021?\n",
    "\n",
    "Trend Observation: From our data, we observed a consistent increase in the total funding amount year over year. There was a significant surge in 2021, indicating a strong recovery and investor confidence.\n"
   ]
  },
  {
   "cell_type": "markdown",
   "metadata": {},
   "source": [
    "Which sectors have received the most funding in each year?\n",
    "\n",
    "Top Funded Sectors:\n",
    "\n",
    "2018: Fintech, Edtech, Healthcare\n",
    "2019: Fintech, E-commerce, Healthcare\n",
    "2020: Fintech, SaaS, Healthcare\n",
    "2021: Fintech, Edtech, Retail\n"
   ]
  },
  {
   "cell_type": "markdown",
   "metadata": {},
   "source": [
    "Who are the top investors in the Indian start-up ecosystem from 2018-2021?\n",
    "\n",
    "Leading Investors:\n",
    "\n",
    "Sequoia Capital: Active in multiple sectors, especially in early-stage investments.\n",
    "Accel Partners: Known for significant investments in Fintech and E-commerce.\n",
    "Tiger Global: Major player in large funding rounds, focusing on later-stage start-ups.\n",
    "Blume Ventures: Focusing on seed and early-stage funding across diverse sectors."
   ]
  },
  {
   "cell_type": "markdown",
   "metadata": {},
   "source": [
    "Which regions or cities in India are receiving the most start-up funding?\n",
    "\n",
    "Top Funded Cities:\n",
    "\n",
    "Bangalore: Dominates with significant funding across various sectors.\n",
    "Mumbai: Strong presence in Fintech and E-commerce.\n",
    "Delhi: Focus on Healthcare and Edtech.\n",
    "Chennai and Hyderabad: Emerging hubs with growing funding activities."
   ]
  },
  {
   "cell_type": "markdown",
   "metadata": {},
   "source": [
    "What is the distribution of investment amounts across different stages of funding?\n",
    "\n",
    "Investment Stage Breakdown:\n",
    "\n",
    "Seed Stage\n",
    "Series A\n",
    "Series B \n",
    "Pre Series A\n",
    "Series C\n",
    "Series D"
   ]
  },
  {
   "cell_type": "code",
   "execution_count": null,
   "metadata": {},
   "outputs": [],
   "source": [
    "\n",
    "Key Findings and Insights: What the Data Tells Us"
   ]
  },
  {
   "cell_type": "markdown",
   "metadata": {},
   "source": [
    "\n",
    "1. Funding Trends Over the Years\n",
    "We found that total funding has steadily increased from 2018 to 2021, with a notable spike in 2021. This surge could be attributed to the growing investor confidence in Indian start-ups and a favorable economic climate.\n",
    "\n",
    "2. Sector-Wise Funding Insights\n",
    "Fintech emerged as the top sector, receiving the lion’s share of funding, especially in 2021. This trend underscores the rapid digitization and financial inclusion efforts in India.\n",
    "\n",
    "3. Top Investors\n",
    "Our analysis highlighted key investors who have been actively fueling the start-up ecosystem. Names like Sequoia Capital and Accel Ventures frequently popped up, showcasing their role in shaping the industry.\n",
    "\n",
    "4. Regional Funding Trends\n",
    "Cities like Bangalore, Mumbai, and Delhi were the top contenders in terms of funding. This reflects their status as major start-up hubs in India.\n",
    "\n",
    "5. Funding Stages\n",
    "Interestingly, we found that most investments were concentrated in the Seed and Series A stages, indicating a healthy interest in early-stage start-ups with high growth potential."
   ]
  }
 ],
 "metadata": {
  "kernelspec": {
   "display_name": "Python 3",
   "language": "python",
   "name": "python3"
  },
  "language_info": {
   "codemirror_mode": {
    "name": "ipython",
    "version": 3
   },
   "file_extension": ".py",
   "mimetype": "text/x-python",
   "name": "python",
   "nbconvert_exporter": "python",
   "pygments_lexer": "ipython3",
   "version": "3.10.9"
  }
 },
 "nbformat": 4,
 "nbformat_minor": 2
}
